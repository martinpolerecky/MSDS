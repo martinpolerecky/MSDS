{
 "cells": [
  {
   "cell_type": "markdown",
   "metadata": {},
   "source": [
    "DTSA-5509 Final Project\n",
    "\n",
    "This dataset contains statistics on the world's billionaires, including information about their businesses, industries, and personal details. It provides insights into the wealth distribution, business sectors, and demographics of billionaires worldwide.\n",
    "You can find it at:\n",
    "https://www.kaggle.com/datasets/nelgiriyewithana/billionaires-statistics-dataset/data\n",
    "\n",
    "The model will try to classify billionaires into either self-made or not self-made categories using ensemble machine learning models (random forest, extra trees, gradient boosting). Performance evaluation is included, alongside an EDA, data cleaning, feature engineering and hyperparameter tuning.\n",
    "If you want to run the code, you will need to put the .csv file in the same folder as the Jupyter notebook and rename the original .csv file from Kaggle to 'data.csv'. Alternatively, you can use the .csv from the Github repo."
   ]
  },
  {
   "cell_type": "code",
   "execution_count": 1,
   "metadata": {},
   "outputs": [],
   "source": [
    "#libraries\n",
    "import pandas as pd\n",
    "import numpy as np\n",
    "import matplotlib.pyplot as plt\n",
    "import plotly.graph_objects as go \n",
    "import seaborn as sns\n",
    "from scipy import stats\n",
    "from matplotlib.colors import LinearSegmentedColormap\n",
    "from sklearn.model_selection import train_test_split, GridSearchCV\n",
    "from sklearn.feature_selection import VarianceThreshold\n",
    "from sklearn.preprocessing import StandardScaler, PolynomialFeatures\n",
    "from sklearn.ensemble import RandomForestClassifier, ExtraTreesClassifier, GradientBoostingClassifier\n",
    "from sklearn.metrics import f1_score, precision_score, recall_score, auc, RocCurveDisplay\n",
    "from sklearn.metrics import confusion_matrix, roc_curve\n",
    "from xgboost import XGBClassifier\n",
    "\n",
    "import warnings\n",
    "warnings.filterwarnings('ignore')"
   ]
  },
  {
   "cell_type": "markdown",
   "metadata": {},
   "source": [
    "EDA\n",
    "The following cells are dedicated to exploratory data analysis. Here you can see the dataframe with all of its columns, values and data types. There are 2640 rows and 35 columns present.\n",
    "You can see further information about boolean and object columns through descriptive statistics as well using the describe() function."
   ]
  },
  {
   "cell_type": "code",
   "execution_count": 2,
   "metadata": {},
   "outputs": [],
   "source": [
    "#read the csv\n",
    "df = pd.read_csv('data.csv')"
   ]
  },
  {
   "cell_type": "code",
   "execution_count": 3,
   "metadata": {},
   "outputs": [
    {
     "data": {
      "text/html": [
       "<div>\n",
       "<style scoped>\n",
       "    .dataframe tbody tr th:only-of-type {\n",
       "        vertical-align: middle;\n",
       "    }\n",
       "\n",
       "    .dataframe tbody tr th {\n",
       "        vertical-align: top;\n",
       "    }\n",
       "\n",
       "    .dataframe thead th {\n",
       "        text-align: right;\n",
       "    }\n",
       "</style>\n",
       "<table border=\"1\" class=\"dataframe\">\n",
       "  <thead>\n",
       "    <tr style=\"text-align: right;\">\n",
       "      <th></th>\n",
       "      <th>rank</th>\n",
       "      <th>finalWorth</th>\n",
       "      <th>category</th>\n",
       "      <th>personName</th>\n",
       "      <th>age</th>\n",
       "      <th>country</th>\n",
       "      <th>city</th>\n",
       "      <th>source</th>\n",
       "      <th>industries</th>\n",
       "      <th>countryOfCitizenship</th>\n",
       "      <th>...</th>\n",
       "      <th>cpi_change_country</th>\n",
       "      <th>gdp_country</th>\n",
       "      <th>gross_tertiary_education_enrollment</th>\n",
       "      <th>gross_primary_education_enrollment_country</th>\n",
       "      <th>life_expectancy_country</th>\n",
       "      <th>tax_revenue_country_country</th>\n",
       "      <th>total_tax_rate_country</th>\n",
       "      <th>population_country</th>\n",
       "      <th>latitude_country</th>\n",
       "      <th>longitude_country</th>\n",
       "    </tr>\n",
       "  </thead>\n",
       "  <tbody>\n",
       "    <tr>\n",
       "      <th>0</th>\n",
       "      <td>1</td>\n",
       "      <td>211000</td>\n",
       "      <td>Fashion &amp; Retail</td>\n",
       "      <td>Bernard Arnault &amp; family</td>\n",
       "      <td>74.0</td>\n",
       "      <td>France</td>\n",
       "      <td>Paris</td>\n",
       "      <td>LVMH</td>\n",
       "      <td>Fashion &amp; Retail</td>\n",
       "      <td>France</td>\n",
       "      <td>...</td>\n",
       "      <td>1.1</td>\n",
       "      <td>$2,715,518,274,227</td>\n",
       "      <td>65.6</td>\n",
       "      <td>102.5</td>\n",
       "      <td>82.5</td>\n",
       "      <td>24.2</td>\n",
       "      <td>60.7</td>\n",
       "      <td>6.705989e+07</td>\n",
       "      <td>46.227638</td>\n",
       "      <td>2.213749</td>\n",
       "    </tr>\n",
       "    <tr>\n",
       "      <th>1</th>\n",
       "      <td>2</td>\n",
       "      <td>180000</td>\n",
       "      <td>Automotive</td>\n",
       "      <td>Elon Musk</td>\n",
       "      <td>51.0</td>\n",
       "      <td>United States</td>\n",
       "      <td>Austin</td>\n",
       "      <td>Tesla, SpaceX</td>\n",
       "      <td>Automotive</td>\n",
       "      <td>United States</td>\n",
       "      <td>...</td>\n",
       "      <td>7.5</td>\n",
       "      <td>$21,427,700,000,000</td>\n",
       "      <td>88.2</td>\n",
       "      <td>101.8</td>\n",
       "      <td>78.5</td>\n",
       "      <td>9.6</td>\n",
       "      <td>36.6</td>\n",
       "      <td>3.282395e+08</td>\n",
       "      <td>37.090240</td>\n",
       "      <td>-95.712891</td>\n",
       "    </tr>\n",
       "    <tr>\n",
       "      <th>2</th>\n",
       "      <td>3</td>\n",
       "      <td>114000</td>\n",
       "      <td>Technology</td>\n",
       "      <td>Jeff Bezos</td>\n",
       "      <td>59.0</td>\n",
       "      <td>United States</td>\n",
       "      <td>Medina</td>\n",
       "      <td>Amazon</td>\n",
       "      <td>Technology</td>\n",
       "      <td>United States</td>\n",
       "      <td>...</td>\n",
       "      <td>7.5</td>\n",
       "      <td>$21,427,700,000,000</td>\n",
       "      <td>88.2</td>\n",
       "      <td>101.8</td>\n",
       "      <td>78.5</td>\n",
       "      <td>9.6</td>\n",
       "      <td>36.6</td>\n",
       "      <td>3.282395e+08</td>\n",
       "      <td>37.090240</td>\n",
       "      <td>-95.712891</td>\n",
       "    </tr>\n",
       "    <tr>\n",
       "      <th>3</th>\n",
       "      <td>4</td>\n",
       "      <td>107000</td>\n",
       "      <td>Technology</td>\n",
       "      <td>Larry Ellison</td>\n",
       "      <td>78.0</td>\n",
       "      <td>United States</td>\n",
       "      <td>Lanai</td>\n",
       "      <td>Oracle</td>\n",
       "      <td>Technology</td>\n",
       "      <td>United States</td>\n",
       "      <td>...</td>\n",
       "      <td>7.5</td>\n",
       "      <td>$21,427,700,000,000</td>\n",
       "      <td>88.2</td>\n",
       "      <td>101.8</td>\n",
       "      <td>78.5</td>\n",
       "      <td>9.6</td>\n",
       "      <td>36.6</td>\n",
       "      <td>3.282395e+08</td>\n",
       "      <td>37.090240</td>\n",
       "      <td>-95.712891</td>\n",
       "    </tr>\n",
       "    <tr>\n",
       "      <th>4</th>\n",
       "      <td>5</td>\n",
       "      <td>106000</td>\n",
       "      <td>Finance &amp; Investments</td>\n",
       "      <td>Warren Buffett</td>\n",
       "      <td>92.0</td>\n",
       "      <td>United States</td>\n",
       "      <td>Omaha</td>\n",
       "      <td>Berkshire Hathaway</td>\n",
       "      <td>Finance &amp; Investments</td>\n",
       "      <td>United States</td>\n",
       "      <td>...</td>\n",
       "      <td>7.5</td>\n",
       "      <td>$21,427,700,000,000</td>\n",
       "      <td>88.2</td>\n",
       "      <td>101.8</td>\n",
       "      <td>78.5</td>\n",
       "      <td>9.6</td>\n",
       "      <td>36.6</td>\n",
       "      <td>3.282395e+08</td>\n",
       "      <td>37.090240</td>\n",
       "      <td>-95.712891</td>\n",
       "    </tr>\n",
       "    <tr>\n",
       "      <th>...</th>\n",
       "      <td>...</td>\n",
       "      <td>...</td>\n",
       "      <td>...</td>\n",
       "      <td>...</td>\n",
       "      <td>...</td>\n",
       "      <td>...</td>\n",
       "      <td>...</td>\n",
       "      <td>...</td>\n",
       "      <td>...</td>\n",
       "      <td>...</td>\n",
       "      <td>...</td>\n",
       "      <td>...</td>\n",
       "      <td>...</td>\n",
       "      <td>...</td>\n",
       "      <td>...</td>\n",
       "      <td>...</td>\n",
       "      <td>...</td>\n",
       "      <td>...</td>\n",
       "      <td>...</td>\n",
       "      <td>...</td>\n",
       "      <td>...</td>\n",
       "    </tr>\n",
       "    <tr>\n",
       "      <th>2635</th>\n",
       "      <td>2540</td>\n",
       "      <td>1000</td>\n",
       "      <td>Healthcare</td>\n",
       "      <td>Yu Rong</td>\n",
       "      <td>51.0</td>\n",
       "      <td>China</td>\n",
       "      <td>Shanghai</td>\n",
       "      <td>Health clinics</td>\n",
       "      <td>Healthcare</td>\n",
       "      <td>China</td>\n",
       "      <td>...</td>\n",
       "      <td>2.9</td>\n",
       "      <td>$19,910,000,000,000</td>\n",
       "      <td>50.6</td>\n",
       "      <td>100.2</td>\n",
       "      <td>77.0</td>\n",
       "      <td>9.4</td>\n",
       "      <td>59.2</td>\n",
       "      <td>1.397715e+09</td>\n",
       "      <td>35.861660</td>\n",
       "      <td>104.195397</td>\n",
       "    </tr>\n",
       "    <tr>\n",
       "      <th>2636</th>\n",
       "      <td>2540</td>\n",
       "      <td>1000</td>\n",
       "      <td>Food &amp; Beverage</td>\n",
       "      <td>Richard Yuengling, Jr.</td>\n",
       "      <td>80.0</td>\n",
       "      <td>United States</td>\n",
       "      <td>Pottsville</td>\n",
       "      <td>Beer</td>\n",
       "      <td>Food &amp; Beverage</td>\n",
       "      <td>United States</td>\n",
       "      <td>...</td>\n",
       "      <td>7.5</td>\n",
       "      <td>$21,427,700,000,000</td>\n",
       "      <td>88.2</td>\n",
       "      <td>101.8</td>\n",
       "      <td>78.5</td>\n",
       "      <td>9.6</td>\n",
       "      <td>36.6</td>\n",
       "      <td>3.282395e+08</td>\n",
       "      <td>37.090240</td>\n",
       "      <td>-95.712891</td>\n",
       "    </tr>\n",
       "    <tr>\n",
       "      <th>2637</th>\n",
       "      <td>2540</td>\n",
       "      <td>1000</td>\n",
       "      <td>Manufacturing</td>\n",
       "      <td>Zhang Gongyun</td>\n",
       "      <td>60.0</td>\n",
       "      <td>China</td>\n",
       "      <td>Gaomi</td>\n",
       "      <td>Tyre manufacturing machinery</td>\n",
       "      <td>Manufacturing</td>\n",
       "      <td>China</td>\n",
       "      <td>...</td>\n",
       "      <td>2.9</td>\n",
       "      <td>$19,910,000,000,000</td>\n",
       "      <td>50.6</td>\n",
       "      <td>100.2</td>\n",
       "      <td>77.0</td>\n",
       "      <td>9.4</td>\n",
       "      <td>59.2</td>\n",
       "      <td>1.397715e+09</td>\n",
       "      <td>35.861660</td>\n",
       "      <td>104.195397</td>\n",
       "    </tr>\n",
       "    <tr>\n",
       "      <th>2638</th>\n",
       "      <td>2540</td>\n",
       "      <td>1000</td>\n",
       "      <td>Real Estate</td>\n",
       "      <td>Zhang Guiping &amp; family</td>\n",
       "      <td>71.0</td>\n",
       "      <td>China</td>\n",
       "      <td>Nanjing</td>\n",
       "      <td>Real estate</td>\n",
       "      <td>Real Estate</td>\n",
       "      <td>China</td>\n",
       "      <td>...</td>\n",
       "      <td>2.9</td>\n",
       "      <td>$19,910,000,000,000</td>\n",
       "      <td>50.6</td>\n",
       "      <td>100.2</td>\n",
       "      <td>77.0</td>\n",
       "      <td>9.4</td>\n",
       "      <td>59.2</td>\n",
       "      <td>1.397715e+09</td>\n",
       "      <td>35.861660</td>\n",
       "      <td>104.195397</td>\n",
       "    </tr>\n",
       "    <tr>\n",
       "      <th>2639</th>\n",
       "      <td>2540</td>\n",
       "      <td>1000</td>\n",
       "      <td>Diversified</td>\n",
       "      <td>Inigo Zobel</td>\n",
       "      <td>66.0</td>\n",
       "      <td>Philippines</td>\n",
       "      <td>Makati</td>\n",
       "      <td>Diversified</td>\n",
       "      <td>Diversified</td>\n",
       "      <td>Philippines</td>\n",
       "      <td>...</td>\n",
       "      <td>2.5</td>\n",
       "      <td>$376,795,508,680</td>\n",
       "      <td>35.5</td>\n",
       "      <td>107.5</td>\n",
       "      <td>71.1</td>\n",
       "      <td>14.0</td>\n",
       "      <td>43.1</td>\n",
       "      <td>1.081166e+08</td>\n",
       "      <td>12.879721</td>\n",
       "      <td>121.774017</td>\n",
       "    </tr>\n",
       "  </tbody>\n",
       "</table>\n",
       "<p>2640 rows × 35 columns</p>\n",
       "</div>"
      ],
      "text/plain": [
       "      rank  finalWorth               category                personName   age  \\\n",
       "0        1      211000       Fashion & Retail  Bernard Arnault & family  74.0   \n",
       "1        2      180000             Automotive                 Elon Musk  51.0   \n",
       "2        3      114000             Technology                Jeff Bezos  59.0   \n",
       "3        4      107000             Technology             Larry Ellison  78.0   \n",
       "4        5      106000  Finance & Investments            Warren Buffett  92.0   \n",
       "...    ...         ...                    ...                       ...   ...   \n",
       "2635  2540        1000             Healthcare                   Yu Rong  51.0   \n",
       "2636  2540        1000        Food & Beverage    Richard Yuengling, Jr.  80.0   \n",
       "2637  2540        1000          Manufacturing             Zhang Gongyun  60.0   \n",
       "2638  2540        1000            Real Estate    Zhang Guiping & family  71.0   \n",
       "2639  2540        1000            Diversified               Inigo Zobel  66.0   \n",
       "\n",
       "            country        city                        source  \\\n",
       "0            France       Paris                          LVMH   \n",
       "1     United States      Austin                 Tesla, SpaceX   \n",
       "2     United States      Medina                        Amazon   \n",
       "3     United States       Lanai                        Oracle   \n",
       "4     United States       Omaha            Berkshire Hathaway   \n",
       "...             ...         ...                           ...   \n",
       "2635          China    Shanghai                Health clinics   \n",
       "2636  United States  Pottsville                          Beer   \n",
       "2637          China       Gaomi  Tyre manufacturing machinery   \n",
       "2638          China     Nanjing                   Real estate   \n",
       "2639    Philippines      Makati                   Diversified   \n",
       "\n",
       "                 industries countryOfCitizenship  ... cpi_change_country  \\\n",
       "0          Fashion & Retail               France  ...                1.1   \n",
       "1                Automotive        United States  ...                7.5   \n",
       "2                Technology        United States  ...                7.5   \n",
       "3                Technology        United States  ...                7.5   \n",
       "4     Finance & Investments        United States  ...                7.5   \n",
       "...                     ...                  ...  ...                ...   \n",
       "2635             Healthcare                China  ...                2.9   \n",
       "2636        Food & Beverage        United States  ...                7.5   \n",
       "2637          Manufacturing                China  ...                2.9   \n",
       "2638            Real Estate                China  ...                2.9   \n",
       "2639            Diversified          Philippines  ...                2.5   \n",
       "\n",
       "               gdp_country gross_tertiary_education_enrollment  \\\n",
       "0      $2,715,518,274,227                                 65.6   \n",
       "1     $21,427,700,000,000                                 88.2   \n",
       "2     $21,427,700,000,000                                 88.2   \n",
       "3     $21,427,700,000,000                                 88.2   \n",
       "4     $21,427,700,000,000                                 88.2   \n",
       "...                    ...                                 ...   \n",
       "2635  $19,910,000,000,000                                 50.6   \n",
       "2636  $21,427,700,000,000                                 88.2   \n",
       "2637  $19,910,000,000,000                                 50.6   \n",
       "2638  $19,910,000,000,000                                 50.6   \n",
       "2639     $376,795,508,680                                 35.5   \n",
       "\n",
       "     gross_primary_education_enrollment_country life_expectancy_country  \\\n",
       "0                                         102.5                    82.5   \n",
       "1                                         101.8                    78.5   \n",
       "2                                         101.8                    78.5   \n",
       "3                                         101.8                    78.5   \n",
       "4                                         101.8                    78.5   \n",
       "...                                         ...                     ...   \n",
       "2635                                      100.2                    77.0   \n",
       "2636                                      101.8                    78.5   \n",
       "2637                                      100.2                    77.0   \n",
       "2638                                      100.2                    77.0   \n",
       "2639                                      107.5                    71.1   \n",
       "\n",
       "     tax_revenue_country_country total_tax_rate_country population_country  \\\n",
       "0                           24.2                   60.7       6.705989e+07   \n",
       "1                            9.6                   36.6       3.282395e+08   \n",
       "2                            9.6                   36.6       3.282395e+08   \n",
       "3                            9.6                   36.6       3.282395e+08   \n",
       "4                            9.6                   36.6       3.282395e+08   \n",
       "...                          ...                    ...                ...   \n",
       "2635                         9.4                   59.2       1.397715e+09   \n",
       "2636                         9.6                   36.6       3.282395e+08   \n",
       "2637                         9.4                   59.2       1.397715e+09   \n",
       "2638                         9.4                   59.2       1.397715e+09   \n",
       "2639                        14.0                   43.1       1.081166e+08   \n",
       "\n",
       "     latitude_country longitude_country  \n",
       "0           46.227638          2.213749  \n",
       "1           37.090240        -95.712891  \n",
       "2           37.090240        -95.712891  \n",
       "3           37.090240        -95.712891  \n",
       "4           37.090240        -95.712891  \n",
       "...               ...               ...  \n",
       "2635        35.861660        104.195397  \n",
       "2636        37.090240        -95.712891  \n",
       "2637        35.861660        104.195397  \n",
       "2638        35.861660        104.195397  \n",
       "2639        12.879721        121.774017  \n",
       "\n",
       "[2640 rows x 35 columns]"
      ]
     },
     "execution_count": 3,
     "metadata": {},
     "output_type": "execute_result"
    }
   ],
   "source": [
    "df"
   ]
  },
  {
   "cell_type": "code",
   "execution_count": 3,
   "metadata": {},
   "outputs": [
    {
     "name": "stdout",
     "output_type": "stream",
     "text": [
      "<class 'pandas.core.frame.DataFrame'>\n",
      "RangeIndex: 2640 entries, 0 to 2639\n",
      "Data columns (total 35 columns):\n",
      " #   Column                                      Non-Null Count  Dtype  \n",
      "---  ------                                      --------------  -----  \n",
      " 0   rank                                        2640 non-null   int64  \n",
      " 1   finalWorth                                  2640 non-null   int64  \n",
      " 2   category                                    2640 non-null   object \n",
      " 3   personName                                  2640 non-null   object \n",
      " 4   age                                         2575 non-null   float64\n",
      " 5   country                                     2602 non-null   object \n",
      " 6   city                                        2568 non-null   object \n",
      " 7   source                                      2640 non-null   object \n",
      " 8   industries                                  2640 non-null   object \n",
      " 9   countryOfCitizenship                        2640 non-null   object \n",
      " 10  organization                                325 non-null    object \n",
      " 11  selfMade                                    2640 non-null   bool   \n",
      " 12  status                                      2640 non-null   object \n",
      " 13  gender                                      2640 non-null   object \n",
      " 14  birthDate                                   2564 non-null   object \n",
      " 15  lastName                                    2640 non-null   object \n",
      " 16  firstName                                   2637 non-null   object \n",
      " 17  title                                       339 non-null    object \n",
      " 18  date                                        2640 non-null   object \n",
      " 19  state                                       753 non-null    object \n",
      " 20  residenceStateRegion                        747 non-null    object \n",
      " 21  birthYear                                   2564 non-null   float64\n",
      " 22  birthMonth                                  2564 non-null   float64\n",
      " 23  birthDay                                    2564 non-null   float64\n",
      " 24  cpi_country                                 2456 non-null   float64\n",
      " 25  cpi_change_country                          2456 non-null   float64\n",
      " 26  gdp_country                                 2476 non-null   object \n",
      " 27  gross_tertiary_education_enrollment         2458 non-null   float64\n",
      " 28  gross_primary_education_enrollment_country  2459 non-null   float64\n",
      " 29  life_expectancy_country                     2458 non-null   float64\n",
      " 30  tax_revenue_country_country                 2457 non-null   float64\n",
      " 31  total_tax_rate_country                      2458 non-null   float64\n",
      " 32  population_country                          2476 non-null   float64\n",
      " 33  latitude_country                            2476 non-null   float64\n",
      " 34  longitude_country                           2476 non-null   float64\n",
      "dtypes: bool(1), float64(14), int64(2), object(18)\n",
      "memory usage: 704.0+ KB\n"
     ]
    }
   ],
   "source": [
    "df.info()"
   ]
  },
  {
   "cell_type": "code",
   "execution_count": 3,
   "metadata": {},
   "outputs": [
    {
     "data": {
      "text/html": [
       "<div>\n",
       "<style scoped>\n",
       "    .dataframe tbody tr th:only-of-type {\n",
       "        vertical-align: middle;\n",
       "    }\n",
       "\n",
       "    .dataframe tbody tr th {\n",
       "        vertical-align: top;\n",
       "    }\n",
       "\n",
       "    .dataframe thead th {\n",
       "        text-align: right;\n",
       "    }\n",
       "</style>\n",
       "<table border=\"1\" class=\"dataframe\">\n",
       "  <thead>\n",
       "    <tr style=\"text-align: right;\">\n",
       "      <th></th>\n",
       "      <th>count</th>\n",
       "      <th>unique</th>\n",
       "      <th>top</th>\n",
       "      <th>freq</th>\n",
       "    </tr>\n",
       "  </thead>\n",
       "  <tbody>\n",
       "    <tr>\n",
       "      <th>category</th>\n",
       "      <td>2640</td>\n",
       "      <td>18</td>\n",
       "      <td>Finance &amp; Investments</td>\n",
       "      <td>372</td>\n",
       "    </tr>\n",
       "    <tr>\n",
       "      <th>personName</th>\n",
       "      <td>2640</td>\n",
       "      <td>2638</td>\n",
       "      <td>Wang Yanqing &amp; family</td>\n",
       "      <td>2</td>\n",
       "    </tr>\n",
       "    <tr>\n",
       "      <th>country</th>\n",
       "      <td>2602</td>\n",
       "      <td>78</td>\n",
       "      <td>United States</td>\n",
       "      <td>754</td>\n",
       "    </tr>\n",
       "    <tr>\n",
       "      <th>city</th>\n",
       "      <td>2568</td>\n",
       "      <td>741</td>\n",
       "      <td>New York</td>\n",
       "      <td>99</td>\n",
       "    </tr>\n",
       "    <tr>\n",
       "      <th>source</th>\n",
       "      <td>2640</td>\n",
       "      <td>906</td>\n",
       "      <td>Real estate</td>\n",
       "      <td>151</td>\n",
       "    </tr>\n",
       "    <tr>\n",
       "      <th>industries</th>\n",
       "      <td>2640</td>\n",
       "      <td>18</td>\n",
       "      <td>Finance &amp; Investments</td>\n",
       "      <td>372</td>\n",
       "    </tr>\n",
       "    <tr>\n",
       "      <th>countryOfCitizenship</th>\n",
       "      <td>2640</td>\n",
       "      <td>77</td>\n",
       "      <td>United States</td>\n",
       "      <td>735</td>\n",
       "    </tr>\n",
       "    <tr>\n",
       "      <th>organization</th>\n",
       "      <td>325</td>\n",
       "      <td>294</td>\n",
       "      <td>Meta Platforms</td>\n",
       "      <td>4</td>\n",
       "    </tr>\n",
       "    <tr>\n",
       "      <th>selfMade</th>\n",
       "      <td>2640</td>\n",
       "      <td>2</td>\n",
       "      <td>True</td>\n",
       "      <td>1812</td>\n",
       "    </tr>\n",
       "    <tr>\n",
       "      <th>status</th>\n",
       "      <td>2640</td>\n",
       "      <td>6</td>\n",
       "      <td>D</td>\n",
       "      <td>1223</td>\n",
       "    </tr>\n",
       "    <tr>\n",
       "      <th>gender</th>\n",
       "      <td>2640</td>\n",
       "      <td>2</td>\n",
       "      <td>M</td>\n",
       "      <td>2303</td>\n",
       "    </tr>\n",
       "    <tr>\n",
       "      <th>birthDate</th>\n",
       "      <td>2564</td>\n",
       "      <td>2060</td>\n",
       "      <td>1/1/1965 0:00</td>\n",
       "      <td>19</td>\n",
       "    </tr>\n",
       "    <tr>\n",
       "      <th>lastName</th>\n",
       "      <td>2640</td>\n",
       "      <td>1736</td>\n",
       "      <td>Li</td>\n",
       "      <td>44</td>\n",
       "    </tr>\n",
       "    <tr>\n",
       "      <th>firstName</th>\n",
       "      <td>2637</td>\n",
       "      <td>1770</td>\n",
       "      <td>John</td>\n",
       "      <td>40</td>\n",
       "    </tr>\n",
       "    <tr>\n",
       "      <th>title</th>\n",
       "      <td>339</td>\n",
       "      <td>97</td>\n",
       "      <td>Investor</td>\n",
       "      <td>44</td>\n",
       "    </tr>\n",
       "    <tr>\n",
       "      <th>date</th>\n",
       "      <td>2640</td>\n",
       "      <td>2</td>\n",
       "      <td>4/4/2023 5:01</td>\n",
       "      <td>2638</td>\n",
       "    </tr>\n",
       "    <tr>\n",
       "      <th>state</th>\n",
       "      <td>753</td>\n",
       "      <td>45</td>\n",
       "      <td>California</td>\n",
       "      <td>178</td>\n",
       "    </tr>\n",
       "    <tr>\n",
       "      <th>residenceStateRegion</th>\n",
       "      <td>747</td>\n",
       "      <td>5</td>\n",
       "      <td>West</td>\n",
       "      <td>248</td>\n",
       "    </tr>\n",
       "    <tr>\n",
       "      <th>gdp_country</th>\n",
       "      <td>2476</td>\n",
       "      <td>68</td>\n",
       "      <td>$21,427,700,000,000</td>\n",
       "      <td>754</td>\n",
       "    </tr>\n",
       "  </tbody>\n",
       "</table>\n",
       "</div>"
      ],
      "text/plain": [
       "                     count unique                    top  freq\n",
       "category              2640     18  Finance & Investments   372\n",
       "personName            2640   2638  Wang Yanqing & family     2\n",
       "country               2602     78          United States   754\n",
       "city                  2568    741               New York    99\n",
       "source                2640    906            Real estate   151\n",
       "industries            2640     18  Finance & Investments   372\n",
       "countryOfCitizenship  2640     77          United States   735\n",
       "organization           325    294         Meta Platforms     4\n",
       "selfMade              2640      2                   True  1812\n",
       "status                2640      6                      D  1223\n",
       "gender                2640      2                      M  2303\n",
       "birthDate             2564   2060          1/1/1965 0:00    19\n",
       "lastName              2640   1736                     Li    44\n",
       "firstName             2637   1770                   John    40\n",
       "title                  339     97               Investor    44\n",
       "date                  2640      2          4/4/2023 5:01  2638\n",
       "state                  753     45             California   178\n",
       "residenceStateRegion   747      5                   West   248\n",
       "gdp_country           2476     68   $21,427,700,000,000    754"
      ]
     },
     "execution_count": 3,
     "metadata": {},
     "output_type": "execute_result"
    }
   ],
   "source": [
    "df.select_dtypes(include=['object','bool']).describe().T"
   ]
  },
  {
   "cell_type": "code",
   "execution_count": 4,
   "metadata": {},
   "outputs": [
    {
     "data": {
      "text/plain": [
       "Index(['rank', 'finalWorth', 'category', 'personName', 'age', 'country',\n",
       "       'city', 'source', 'industries', 'countryOfCitizenship', 'organization',\n",
       "       'selfMade', 'status', 'gender', 'birthDate', 'lastName', 'firstName',\n",
       "       'title', 'date', 'state', 'residenceStateRegion', 'birthYear',\n",
       "       'birthMonth', 'birthDay', 'cpi_country', 'cpi_change_country',\n",
       "       'gdp_country', 'gross_tertiary_education_enrollment',\n",
       "       'gross_primary_education_enrollment_country', 'life_expectancy_country',\n",
       "       'tax_revenue_country_country', 'total_tax_rate_country',\n",
       "       'population_country', 'latitude_country', 'longitude_country'],\n",
       "      dtype='object')"
      ]
     },
     "execution_count": 4,
     "metadata": {},
     "output_type": "execute_result"
    }
   ],
   "source": [
    "df.columns"
   ]
  },
  {
   "cell_type": "markdown",
   "metadata": {},
   "source": [
    "Data Cleaning \n",
    "\n",
    "Now comes the task of cleaning the data. First up, I drop the columns which won't be used/needed in our models. These are mostly personal information (name, residence, birthday etc.)\n",
    "Then, I modify the NA values in the dataframe and replace them with the last valid observation. After removing duplicate entries I also make sure to modify the 'gdp_country' column, since the original value is a string (e.g. $19,900,000) and I need it to be a numerical value, so I remove the Dollar signs and commas."
   ]
  },
  {
   "cell_type": "code",
   "execution_count": 5,
   "metadata": {},
   "outputs": [],
   "source": [
    "df.drop(columns=['category','country','state','birthDate','date','personName','city','source','industries','countryOfCitizenship','organization','lastName','firstName','birthDay','birthMonth','birthYear', 'title','residenceStateRegion'],inplace=True)"
   ]
  },
  {
   "cell_type": "code",
   "execution_count": 6,
   "metadata": {},
   "outputs": [],
   "source": [
    "for col in df:\n",
    "    df[col] = df[col].fillna(method='ffill')\n",
    "    \n",
    "for column in df:\n",
    "    mode_value = df[column].mode()[0]    \n",
    "    df[column]=df[column].fillna(mode_value)    "
   ]
  },
  {
   "cell_type": "code",
   "execution_count": 7,
   "metadata": {},
   "outputs": [],
   "source": [
    "df.drop_duplicates(inplace=True)"
   ]
  },
  {
   "cell_type": "code",
   "execution_count": 8,
   "metadata": {},
   "outputs": [],
   "source": [
    "df['gdp_country'] = df['gdp_country'].str.replace('$','').replace(',','', regex=True).astype(float)"
   ]
  },
  {
   "cell_type": "markdown",
   "metadata": {},
   "source": [
    "Visualization\n",
    "\n",
    "Here are a few graphs depicting some interesting facts about the dataset. I've also decided to include a correlation heatmap to showcase the correlation between the columns.\n",
    "The heatmap provides a quick visual overview of the pairwise correlations between the selected numerical columns. It helps in identifying potential multicollinearity or relationships between features, which is crucial for feature selection and understanding how features might influence each other."
   ]
  },
  {
   "cell_type": "code",
   "execution_count": 7,
   "metadata": {},
   "outputs": [
    {
     "data": {
      "text/plain": [
       "<Axes: xlabel='gender', ylabel='count'>"
      ]
     },
     "execution_count": 7,
     "metadata": {},
     "output_type": "execute_result"
    },
    {
     "data": {
      "image/png": "[encoded data removed]",
      "text/plain": [
       "<Figure size 1000x500 with 1 Axes>"
      ]
     },
     "metadata": {},
     "output_type": "display_data"
    }
   ],
   "source": [
    "plt.figure(figsize=(10,5))\n",
    "gen = df['gender'].value_counts().reset_index()[:10]\n",
    "sns.barplot(x='gender', y='count', data=gen)"
   ]
  },
  {
   "cell_type": "code",
   "execution_count": 14,
   "metadata": {},
   "outputs": [
    {
     "data": {
      "text/plain": [
       "<Axes: xlabel='selfMade', ylabel='count'>"
      ]
     },
     "execution_count": 14,
     "metadata": {},
     "output_type": "execute_result"
    },
    {
     "data": {
      "image/png": "[encoded data removed]",
      "text/plain": [
       "<Figure size 1000x500 with 1 Axes>"
      ]
     },
     "metadata": {},
     "output_type": "display_data"
    }
   ],
   "source": [
    "plt.figure(figsize=(10,5))\n",
    "sm = df['selfMade'].value_counts().reset_index()[:10]\n",
    "sns.barplot(x='selfMade', y='count', data=sm)"
   ]
  },
  {
   "cell_type": "code",
   "execution_count": 21,
   "metadata": {},
   "outputs": [
    {
     "data": {
      "text/plain": [
       "<Axes: xlabel='status', ylabel='count'>"
      ]
     },
     "execution_count": 21,
     "metadata": {},
     "output_type": "execute_result"
    },
    {
     "data": {
      "image/png": "[encoded data removed]",
      "text/plain": [
       "<Figure size 1200x500 with 1 Axes>"
      ]
     },
     "metadata": {},
     "output_type": "display_data"
    }
   ],
   "source": [
    "plt.figure(figsize=(12,5))\n",
    "st = df['status'].value_counts().reset_index()[:2]\n",
    "sns.barplot(x='status', y='count', data=st)"
   ]
  },
  {
   "cell_type": "code",
   "execution_count": 19,
   "metadata": {},
   "outputs": [
    {
     "data": {
      "text/plain": [
       "<Axes: >"
      ]
     },
     "execution_count": 19,
     "metadata": {},
     "output_type": "execute_result"
    },
    {
     "data": {
      "image/png": "[encoded data removed]",
      "text/plain": [
       "<Figure size 1200x1000 with 2 Axes>"
      ]
     },
     "metadata": {},
     "output_type": "display_data"
    }
   ],
   "source": [
    "plt.figure(figsize=(12,10))\n",
    "sns.heatmap(df[['finalWorth','cpi_country', 'gdp_country',\n",
    "       'gross_tertiary_education_enrollment','age','latitude_country','longitude_country',\n",
    "       'gross_primary_education_enrollment_country', 'life_expectancy_country','selfMade',\n",
    "       'tax_revenue_country_country', 'total_tax_rate_country',\n",
    "       'population_country']].corr(), cmap='coolwarm')"
   ]
  },
  {
   "cell_type": "markdown",
   "metadata": {},
   "source": [
    "Feature Engineering\n",
    "\n",
    "First off, we should remove the outliers using the Z-score. For every numerical value, I compute the Z-score and if it exceeds 3 its index is stored and removed from the data frame.\n",
    "Then we split the continuous values of the 'rank' column into categories (bins), each having its own label. This allows us to work with ranges or groups of values.\n",
    "I also apply polynomial features to capture non-linear relationships and interactions between features. From now on, X_pf will be the dataframe.\n",
    "Next up, I remove some low variance (<0.25) features as they likely won't contribute much to the model.\n",
    "And finally, features are standardized using StandardScaler(), thus transforming them to have zero mean and unit variance. This is done in order to ensure that features with different scales do not dominate."
   ]
  },
  {
   "cell_type": "code",
   "execution_count": 9,
   "metadata": {},
   "outputs": [
    {
     "name": "stdout",
     "output_type": "stream",
     "text": [
      "Rows in the data prior to outlier deletion: 2,551\n",
      "Rows in the data after deleting the outliers: 2,355\n"
     ]
    }
   ],
   "source": [
    "num_outlier=[]\n",
    "num_cols = df.select_dtypes(include=['float64','int64'])\n",
    "print(\"Rows in the data prior to outlier deletion: {:,}\".format(df.shape[0]))\n",
    "\n",
    "for column in num_cols.columns:\n",
    "    z = np.abs(stats.zscore(df[column]))\n",
    "    threshold = 3\n",
    "    outliers = df[z > threshold]\n",
    "    num_outlier.append(len(outliers))\n",
    "    df.drop(outliers.index,inplace=True) \n",
    "     \n",
    "print(\"Rows in the data after deleting the outliers: {:,}\".format(df.shape[0]))    "
   ]
  },
  {
   "cell_type": "code",
   "execution_count": 10,
   "metadata": {},
   "outputs": [],
   "source": [
    "df['rank']=pd.cut(df['rank'],[0,500,1000,1500,2000,2600],labels=[1,2,3,4,5])"
   ]
  },
  {
   "cell_type": "code",
   "execution_count": 11,
   "metadata": {},
   "outputs": [
    {
     "data": {
      "text/html": [
       "<div>\n",
       "<style scoped>\n",
       "    .dataframe tbody tr th:only-of-type {\n",
       "        vertical-align: middle;\n",
       "    }\n",
       "\n",
       "    .dataframe tbody tr th {\n",
       "        vertical-align: top;\n",
       "    }\n",
       "\n",
       "    .dataframe thead th {\n",
       "        text-align: right;\n",
       "    }\n",
       "</style>\n",
       "<table border=\"1\" class=\"dataframe\">\n",
       "  <thead>\n",
       "    <tr style=\"text-align: right;\">\n",
       "      <th></th>\n",
       "      <th>rank</th>\n",
       "      <th>finalWorth</th>\n",
       "      <th>age</th>\n",
       "      <th>cpi_country</th>\n",
       "      <th>cpi_change_country</th>\n",
       "      <th>gdp_country</th>\n",
       "      <th>gross_tertiary_education_enrollment</th>\n",
       "      <th>gross_primary_education_enrollment_country</th>\n",
       "      <th>life_expectancy_country</th>\n",
       "      <th>tax_revenue_country_country</th>\n",
       "      <th>...</th>\n",
       "      <th>status_N status_R</th>\n",
       "      <th>status_N status_Split Family Fortune</th>\n",
       "      <th>status_N status_U</th>\n",
       "      <th>status_N gender_M</th>\n",
       "      <th>status_R status_Split Family Fortune</th>\n",
       "      <th>status_R status_U</th>\n",
       "      <th>status_R gender_M</th>\n",
       "      <th>status_Split Family Fortune status_U</th>\n",
       "      <th>status_Split Family Fortune gender_M</th>\n",
       "      <th>status_U gender_M</th>\n",
       "    </tr>\n",
       "  </thead>\n",
       "  <tbody>\n",
       "    <tr>\n",
       "      <th>0</th>\n",
       "      <td>1.0</td>\n",
       "      <td>33400.0</td>\n",
       "      <td>54.0</td>\n",
       "      <td>125.08</td>\n",
       "      <td>2.9</td>\n",
       "      <td>1.991000e+13</td>\n",
       "      <td>50.6</td>\n",
       "      <td>100.2</td>\n",
       "      <td>77.0</td>\n",
       "      <td>9.4</td>\n",
       "      <td>...</td>\n",
       "      <td>0.0</td>\n",
       "      <td>0.0</td>\n",
       "      <td>0.0</td>\n",
       "      <td>0.0</td>\n",
       "      <td>0.0</td>\n",
       "      <td>0.0</td>\n",
       "      <td>0.0</td>\n",
       "      <td>0.0</td>\n",
       "      <td>0.0</td>\n",
       "      <td>0.0</td>\n",
       "    </tr>\n",
       "    <tr>\n",
       "      <th>1</th>\n",
       "      <td>1.0</td>\n",
       "      <td>32600.0</td>\n",
       "      <td>74.0</td>\n",
       "      <td>105.48</td>\n",
       "      <td>0.5</td>\n",
       "      <td>5.081770e+12</td>\n",
       "      <td>63.2</td>\n",
       "      <td>98.8</td>\n",
       "      <td>84.2</td>\n",
       "      <td>11.9</td>\n",
       "      <td>...</td>\n",
       "      <td>0.0</td>\n",
       "      <td>0.0</td>\n",
       "      <td>0.0</td>\n",
       "      <td>0.0</td>\n",
       "      <td>0.0</td>\n",
       "      <td>0.0</td>\n",
       "      <td>0.0</td>\n",
       "      <td>0.0</td>\n",
       "      <td>0.0</td>\n",
       "      <td>1.0</td>\n",
       "    </tr>\n",
       "    <tr>\n",
       "      <th>2</th>\n",
       "      <td>1.0</td>\n",
       "      <td>32100.0</td>\n",
       "      <td>65.0</td>\n",
       "      <td>119.62</td>\n",
       "      <td>1.7</td>\n",
       "      <td>2.827113e+12</td>\n",
       "      <td>60.0</td>\n",
       "      <td>101.2</td>\n",
       "      <td>81.3</td>\n",
       "      <td>25.5</td>\n",
       "      <td>...</td>\n",
       "      <td>0.0</td>\n",
       "      <td>0.0</td>\n",
       "      <td>0.0</td>\n",
       "      <td>0.0</td>\n",
       "      <td>0.0</td>\n",
       "      <td>0.0</td>\n",
       "      <td>0.0</td>\n",
       "      <td>0.0</td>\n",
       "      <td>0.0</td>\n",
       "      <td>0.0</td>\n",
       "    </tr>\n",
       "    <tr>\n",
       "      <th>3</th>\n",
       "      <td>1.0</td>\n",
       "      <td>31600.0</td>\n",
       "      <td>74.0</td>\n",
       "      <td>117.24</td>\n",
       "      <td>7.5</td>\n",
       "      <td>2.142770e+13</td>\n",
       "      <td>88.2</td>\n",
       "      <td>101.8</td>\n",
       "      <td>78.5</td>\n",
       "      <td>9.6</td>\n",
       "      <td>...</td>\n",
       "      <td>0.0</td>\n",
       "      <td>0.0</td>\n",
       "      <td>0.0</td>\n",
       "      <td>0.0</td>\n",
       "      <td>0.0</td>\n",
       "      <td>0.0</td>\n",
       "      <td>0.0</td>\n",
       "      <td>0.0</td>\n",
       "      <td>0.0</td>\n",
       "      <td>1.0</td>\n",
       "    </tr>\n",
       "    <tr>\n",
       "      <th>4</th>\n",
       "      <td>1.0</td>\n",
       "      <td>31600.0</td>\n",
       "      <td>72.0</td>\n",
       "      <td>117.24</td>\n",
       "      <td>7.5</td>\n",
       "      <td>2.142770e+13</td>\n",
       "      <td>88.2</td>\n",
       "      <td>101.8</td>\n",
       "      <td>78.5</td>\n",
       "      <td>9.6</td>\n",
       "      <td>...</td>\n",
       "      <td>0.0</td>\n",
       "      <td>0.0</td>\n",
       "      <td>0.0</td>\n",
       "      <td>0.0</td>\n",
       "      <td>0.0</td>\n",
       "      <td>0.0</td>\n",
       "      <td>0.0</td>\n",
       "      <td>0.0</td>\n",
       "      <td>0.0</td>\n",
       "      <td>1.0</td>\n",
       "    </tr>\n",
       "  </tbody>\n",
       "</table>\n",
       "<p>5 rows × 210 columns</p>\n",
       "</div>"
      ],
      "text/plain": [
       "   rank  finalWorth   age  cpi_country  cpi_change_country   gdp_country  \\\n",
       "0   1.0     33400.0  54.0       125.08                 2.9  1.991000e+13   \n",
       "1   1.0     32600.0  74.0       105.48                 0.5  5.081770e+12   \n",
       "2   1.0     32100.0  65.0       119.62                 1.7  2.827113e+12   \n",
       "3   1.0     31600.0  74.0       117.24                 7.5  2.142770e+13   \n",
       "4   1.0     31600.0  72.0       117.24                 7.5  2.142770e+13   \n",
       "\n",
       "   gross_tertiary_education_enrollment  \\\n",
       "0                                 50.6   \n",
       "1                                 63.2   \n",
       "2                                 60.0   \n",
       "3                                 88.2   \n",
       "4                                 88.2   \n",
       "\n",
       "   gross_primary_education_enrollment_country  life_expectancy_country  \\\n",
       "0                                       100.2                     77.0   \n",
       "1                                        98.8                     84.2   \n",
       "2                                       101.2                     81.3   \n",
       "3                                       101.8                     78.5   \n",
       "4                                       101.8                     78.5   \n",
       "\n",
       "   tax_revenue_country_country  ...  status_N status_R  \\\n",
       "0                          9.4  ...                0.0   \n",
       "1                         11.9  ...                0.0   \n",
       "2                         25.5  ...                0.0   \n",
       "3                          9.6  ...                0.0   \n",
       "4                          9.6  ...                0.0   \n",
       "\n",
       "   status_N status_Split Family Fortune  status_N status_U  status_N gender_M  \\\n",
       "0                                   0.0                0.0                0.0   \n",
       "1                                   0.0                0.0                0.0   \n",
       "2                                   0.0                0.0                0.0   \n",
       "3                                   0.0                0.0                0.0   \n",
       "4                                   0.0                0.0                0.0   \n",
       "\n",
       "   status_R status_Split Family Fortune  status_R status_U  status_R gender_M  \\\n",
       "0                                   0.0                0.0                0.0   \n",
       "1                                   0.0                0.0                0.0   \n",
       "2                                   0.0                0.0                0.0   \n",
       "3                                   0.0                0.0                0.0   \n",
       "4                                   0.0                0.0                0.0   \n",
       "\n",
       "   status_Split Family Fortune status_U  status_Split Family Fortune gender_M  \\\n",
       "0                                   0.0                                   0.0   \n",
       "1                                   0.0                                   0.0   \n",
       "2                                   0.0                                   0.0   \n",
       "3                                   0.0                                   0.0   \n",
       "4                                   0.0                                   0.0   \n",
       "\n",
       "   status_U gender_M  \n",
       "0                0.0  \n",
       "1                1.0  \n",
       "2                0.0  \n",
       "3                1.0  \n",
       "4                1.0  \n",
       "\n",
       "[5 rows x 210 columns]"
      ]
     },
     "execution_count": 11,
     "metadata": {},
     "output_type": "execute_result"
    }
   ],
   "source": [
    "y=df.selfMade\n",
    "X=df.drop('selfMade', axis=1) # target\n",
    "\n",
    "# avoiding collinearity\n",
    "X=pd.get_dummies(X, columns=['status','gender'], drop_first=True)\n",
    "\n",
    "# initialize a polynomial features object to transform the features and create a new dataframe with both the original and polynomial features\n",
    "pf = PolynomialFeatures(interaction_only=True, include_bias=False)\n",
    "X_pf = pd.DataFrame(data=pf.fit_transform(X), columns=pf.get_feature_names_out(X.columns))\n",
    "X_pf.head()"
   ]
  },
  {
   "cell_type": "code",
   "execution_count": 12,
   "metadata": {},
   "outputs": [
    {
     "data": {
      "text/plain": [
       "array([ True,  True,  True,  True,  True,  True,  True,  True,  True,\n",
       "        True,  True,  True,  True,  True, False, False, False, False,\n",
       "       False, False,  True,  True,  True,  True,  True,  True,  True,\n",
       "        True,  True,  True,  True,  True,  True,  True,  True,  True,\n",
       "        True,  True,  True,  True,  True,  True,  True,  True,  True,\n",
       "        True,  True,  True,  True,  True,  True,  True,  True,  True,\n",
       "        True,  True,  True,  True,  True,  True,  True,  True,  True,\n",
       "        True,  True,  True,  True,  True,  True,  True,  True,  True,\n",
       "        True,  True,  True,  True,  True,  True,  True,  True,  True,\n",
       "        True,  True,  True,  True,  True,  True,  True,  True,  True,\n",
       "        True,  True,  True,  True,  True,  True,  True,  True,  True,\n",
       "        True,  True,  True,  True,  True,  True,  True,  True,  True,\n",
       "        True,  True,  True,  True,  True,  True,  True,  True,  True,\n",
       "        True,  True,  True,  True,  True,  True,  True,  True,  True,\n",
       "        True,  True,  True,  True,  True,  True,  True,  True,  True,\n",
       "        True,  True,  True,  True,  True,  True,  True,  True,  True,\n",
       "        True,  True,  True,  True,  True,  True,  True,  True,  True,\n",
       "        True,  True,  True,  True,  True,  True,  True,  True,  True,\n",
       "        True,  True,  True,  True,  True,  True,  True,  True,  True,\n",
       "        True,  True,  True,  True,  True,  True,  True,  True,  True,\n",
       "        True,  True,  True,  True,  True,  True,  True,  True,  True,\n",
       "        True,  True,  True,  True,  True,  True, False, False, False,\n",
       "       False, False, False, False, False, False, False, False, False,\n",
       "       False, False, False])"
      ]
     },
     "execution_count": 12,
     "metadata": {},
     "output_type": "execute_result"
    }
   ],
   "source": [
    "# detect low variance features\n",
    "var_thr = VarianceThreshold(threshold = 0.25)\n",
    "var_thr.fit(X_pf)\n",
    "var_thr.get_support()"
   ]
  },
  {
   "cell_type": "code",
   "execution_count": 13,
   "metadata": {},
   "outputs": [],
   "source": [
    "# remove low variance features\n",
    "concol = [column for column in X_pf.columns \n",
    "          if column not in X_pf.columns[var_thr.get_support()]]\n",
    "\n",
    "X_pf.drop(concol,axis=1,inplace=True)"
   ]
  },
  {
   "cell_type": "code",
   "execution_count": 14,
   "metadata": {},
   "outputs": [],
   "source": [
    "# feature standardization\n",
    "scaler=StandardScaler()\n",
    "X_pf=pd.DataFrame(scaler.fit_transform(X_pf), columns=X_pf.columns)"
   ]
  },
  {
   "cell_type": "markdown",
   "metadata": {},
   "source": [
    "Modeling\n",
    "The data is split into three sets: training (50%) validation (25%) and testing (25%).\n",
    "This section trains several machine learning models (RandomForestClassifier, ExtraTreesClassifier, GradientBoostingClassifier, and XGBClassifier) on the training set and evaluates their performance on the validation sets using the F1 score as the metric.\n",
    "Once that's done, our validation and training feature matrices and target vectors are combined to allow the model to learn from a larger pool."
   ]
  },
  {
   "cell_type": "code",
   "execution_count": 15,
   "metadata": {},
   "outputs": [],
   "source": [
    "# split the data into train, validation and test sets\n",
    "X_train, X2, y_train, y2 = train_test_split(X_pf, y, train_size=0.5, \n",
    "                                            stratify=y)\n",
    "\n",
    "X_val, X_test, y_val, y_test = train_test_split(X2, y2, test_size=0.5,\n",
    "                                                stratify=y2)"
   ]
  },
  {
   "cell_type": "code",
   "execution_count": 16,
   "metadata": {},
   "outputs": [],
   "source": [
    "models= [RandomForestClassifier(), ExtraTreesClassifier(),  GradientBoostingClassifier(),XGBClassifier()]\n",
    "\n",
    "train_score=[]\n",
    "validation_score=[]\n",
    "\n",
    "for model in models:\n",
    "    \n",
    "    model.fit(X_train,y_train)\n",
    "    y_train_pred= model.predict(X_train)\n",
    "    train_score.append(f1_score(y_train_pred,y_train))\n",
    "    y_val_pred=model.predict(X_val)\n",
    "    validation_score.append(f1_score(y_val_pred,y_val))"
   ]
  },
  {
   "cell_type": "code",
   "execution_count": 17,
   "metadata": {},
   "outputs": [
    {
     "data": {
      "application/vnd.plotly.v1+json": {
       "config": {
        "plotlyServerURL": "https://plot.ly"
       },
       "data": [
        {
         "hovertemplate": "accuracy of %{x} = %{y:.2f}%<extra></extra>",
         "marker": {
          "color": "#FA3434",
          "line": {
           "color": "#000000",
           "width": 1
          },
          "opacity": 0.8
         },
         "name": "Train",
         "text": [
          "0.9975278121137207",
          "0.9975186104218362",
          "0.9241540256709452",
          "0.9950556242274413"
         ],
         "textposition": "outside",
         "texttemplate": "%{text:.2f}%",
         "type": "bar",
         "width": 0.38,
         "x": [
          "RandomForestClassifier",
          "ExtraTreesClassifier",
          "GradientBoostingClassifier",
          "XGBClassifier"
         ],
         "y": [
          0.9975278121137207,
          0.9975186104218362,
          0.9241540256709452,
          0.9950556242274413
         ]
        },
        {
         "hovertemplate": "accuracy of %{x} = %{y:.2f}%<extra></extra>",
         "marker": {
          "color": "#D7BBA8",
          "line": {
           "color": "#000000",
           "width": 1
          },
          "opacity": 0.8
         },
         "name": "validation",
         "text": [
          "0.8063337393422655",
          "0.7876543209876543",
          "0.8203309692671394",
          "0.7966101694915255"
         ],
         "textposition": "outside",
         "texttemplate": "%{text:.2f}%",
         "type": "bar",
         "width": 0.38,
         "x": [
          "RandomForestClassifier",
          "ExtraTreesClassifier",
          "GradientBoostingClassifier",
          "XGBClassifier"
         ],
         "y": [
          0.8063337393422655,
          0.7876543209876543,
          0.8203309692671394,
          0.7966101694915255
         ]
        }
       ],
       "layout": {
        "bargap": 0.15,
        "barmode": "group",
        "legend": {
         "orientation": "h",
         "x": 0.97,
         "xanchor": "right",
         "y": 1,
         "yanchor": "bottom"
        },
        "showlegend": true,
        "template": {
         "data": {
          "bar": [
           {
            "error_x": {
             "color": "#2a3f5f"
            },
            "error_y": {
             "color": "#2a3f5f"
            },
            "marker": {
             "line": {
              "color": "#E5ECF6",
              "width": 0.5
             },
             "pattern": {
              "fillmode": "overlay",
              "size": 10,
              "solidity": 0.2
             }
            },
            "type": "bar"
           }
          ],
          "barpolar": [
           {
            "marker": {
             "line": {
              "color": "#E5ECF6",
              "width": 0.5
             },
             "pattern": {
              "fillmode": "overlay",
              "size": 10,
              "solidity": 0.2
             }
            },
            "type": "barpolar"
           }
          ],
          "carpet": [
           {
            "aaxis": {
             "endlinecolor": "#2a3f5f",
             "gridcolor": "white",
             "linecolor": "white",
             "minorgridcolor": "white",
             "startlinecolor": "#2a3f5f"
            },
            "baxis": {
             "endlinecolor": "#2a3f5f",
             "gridcolor": "white",
             "linecolor": "white",
             "minorgridcolor": "white",
             "startlinecolor": "#2a3f5f"
            },
            "type": "carpet"
           }
          ],
          "choropleth": [
           {
            "colorbar": {
             "outlinewidth": 0,
             "ticks": ""
            },
            "type": "choropleth"
           }
          ],
          "contour": [
           {
            "colorbar": {
             "outlinewidth": 0,
             "ticks": ""
            },
            "colorscale": [
             [
              0,
              "#0d0887"
             ],
             [
              0.1111111111111111,
              "#46039f"
             ],
             [
              0.2222222222222222,
              "#7201a8"
             ],
             [
              0.3333333333333333,
              "#9c179e"
             ],
             [
              0.4444444444444444,
              "#bd3786"
             ],
             [
              0.5555555555555556,
              "#d8576b"
             ],
             [
              0.6666666666666666,
              "#ed7953"
             ],
             [
              0.7777777777777778,
              "#fb9f3a"
             ],
             [
              0.8888888888888888,
              "#fdca26"
             ],
             [
              1,
              "#f0f921"
             ]
            ],
            "type": "contour"
           }
          ],
          "contourcarpet": [
           {
            "colorbar": {
             "outlinewidth": 0,
             "ticks": ""
            },
            "type": "contourcarpet"
           }
          ],
          "heatmap": [
           {
            "colorbar": {
             "outlinewidth": 0,
             "ticks": ""
            },
            "colorscale": [
             [
              0,
              "#0d0887"
             ],
             [
              0.1111111111111111,
              "#46039f"
             ],
             [
              0.2222222222222222,
              "#7201a8"
             ],
             [
              0.3333333333333333,
              "#9c179e"
             ],
             [
              0.4444444444444444,
              "#bd3786"
             ],
             [
              0.5555555555555556,
              "#d8576b"
             ],
             [
              0.6666666666666666,
              "#ed7953"
             ],
             [
              0.7777777777777778,
              "#fb9f3a"
             ],
             [
              0.8888888888888888,
              "#fdca26"
             ],
             [
              1,
              "#f0f921"
             ]
            ],
            "type": "heatmap"
           }
          ],
          "heatmapgl": [
           {
            "colorbar": {
             "outlinewidth": 0,
             "ticks": ""
            },
            "colorscale": [
             [
              0,
              "#0d0887"
             ],
             [
              0.1111111111111111,
              "#46039f"
             ],
             [
              0.2222222222222222,
              "#7201a8"
             ],
             [
              0.3333333333333333,
              "#9c179e"
             ],
             [
              0.4444444444444444,
              "#bd3786"
             ],
             [
              0.5555555555555556,
              "#d8576b"
             ],
             [
              0.6666666666666666,
              "#ed7953"
             ],
             [
              0.7777777777777778,
              "#fb9f3a"
             ],
             [
              0.8888888888888888,
              "#fdca26"
             ],
             [
              1,
              "#f0f921"
             ]
            ],
            "type": "heatmapgl"
           }
          ],
          "histogram": [
           {
            "marker": {
             "pattern": {
              "fillmode": "overlay",
              "size": 10,
              "solidity": 0.2
             }
            },
            "type": "histogram"
           }
          ],
          "histogram2d": [
           {
            "colorbar": {
             "outlinewidth": 0,
             "ticks": ""
            },
            "colorscale": [
             [
              0,
              "#0d0887"
             ],
             [
              0.1111111111111111,
              "#46039f"
             ],
             [
              0.2222222222222222,
              "#7201a8"
             ],
             [
              0.3333333333333333,
              "#9c179e"
             ],
             [
              0.4444444444444444,
              "#bd3786"
             ],
             [
              0.5555555555555556,
              "#d8576b"
             ],
             [
              0.6666666666666666,
              "#ed7953"
             ],
             [
              0.7777777777777778,
              "#fb9f3a"
             ],
             [
              0.8888888888888888,
              "#fdca26"
             ],
             [
              1,
              "#f0f921"
             ]
            ],
            "type": "histogram2d"
           }
          ],
          "histogram2dcontour": [
           {
            "colorbar": {
             "outlinewidth": 0,
             "ticks": ""
            },
            "colorscale": [
             [
              0,
              "#0d0887"
             ],
             [
              0.1111111111111111,
              "#46039f"
             ],
             [
              0.2222222222222222,
              "#7201a8"
             ],
             [
              0.3333333333333333,
              "#9c179e"
             ],
             [
              0.4444444444444444,
              "#bd3786"
             ],
             [
              0.5555555555555556,
              "#d8576b"
             ],
             [
              0.6666666666666666,
              "#ed7953"
             ],
             [
              0.7777777777777778,
              "#fb9f3a"
             ],
             [
              0.8888888888888888,
              "#fdca26"
             ],
             [
              1,
              "#f0f921"
             ]
            ],
            "type": "histogram2dcontour"
           }
          ],
          "mesh3d": [
           {
            "colorbar": {
             "outlinewidth": 0,
             "ticks": ""
            },
            "type": "mesh3d"
           }
          ],
          "parcoords": [
           {
            "line": {
             "colorbar": {
              "outlinewidth": 0,
              "ticks": ""
             }
            },
            "type": "parcoords"
           }
          ],
          "pie": [
           {
            "automargin": true,
            "type": "pie"
           }
          ],
          "scatter": [
           {
            "fillpattern": {
             "fillmode": "overlay",
             "size": 10,
             "solidity": 0.2
            },
            "type": "scatter"
           }
          ],
          "scatter3d": [
           {
            "line": {
             "colorbar": {
              "outlinewidth": 0,
              "ticks": ""
             }
            },
            "marker": {
             "colorbar": {
              "outlinewidth": 0,
              "ticks": ""
             }
            },
            "type": "scatter3d"
           }
          ],
          "scattercarpet": [
           {
            "marker": {
             "colorbar": {
              "outlinewidth": 0,
              "ticks": ""
             }
            },
            "type": "scattercarpet"
           }
          ],
          "scattergeo": [
           {
            "marker": {
             "colorbar": {
              "outlinewidth": 0,
              "ticks": ""
             }
            },
            "type": "scattergeo"
           }
          ],
          "scattergl": [
           {
            "marker": {
             "colorbar": {
              "outlinewidth": 0,
              "ticks": ""
             }
            },
            "type": "scattergl"
           }
          ],
          "scattermapbox": [
           {
            "marker": {
             "colorbar": {
              "outlinewidth": 0,
              "ticks": ""
             }
            },
            "type": "scattermapbox"
           }
          ],
          "scatterpolar": [
           {
            "marker": {
             "colorbar": {
              "outlinewidth": 0,
              "ticks": ""
             }
            },
            "type": "scatterpolar"
           }
          ],
          "scatterpolargl": [
           {
            "marker": {
             "colorbar": {
              "outlinewidth": 0,
              "ticks": ""
             }
            },
            "type": "scatterpolargl"
           }
          ],
          "scatterternary": [
           {
            "marker": {
             "colorbar": {
              "outlinewidth": 0,
              "ticks": ""
             }
            },
            "type": "scatterternary"
           }
          ],
          "surface": [
           {
            "colorbar": {
             "outlinewidth": 0,
             "ticks": ""
            },
            "colorscale": [
             [
              0,
              "#0d0887"
             ],
             [
              0.1111111111111111,
              "#46039f"
             ],
             [
              0.2222222222222222,
              "#7201a8"
             ],
             [
              0.3333333333333333,
              "#9c179e"
             ],
             [
              0.4444444444444444,
              "#bd3786"
             ],
             [
              0.5555555555555556,
              "#d8576b"
             ],
             [
              0.6666666666666666,
              "#ed7953"
             ],
             [
              0.7777777777777778,
              "#fb9f3a"
             ],
             [
              0.8888888888888888,
              "#fdca26"
             ],
             [
              1,
              "#f0f921"
             ]
            ],
            "type": "surface"
           }
          ],
          "table": [
           {
            "cells": {
             "fill": {
              "color": "#EBF0F8"
             },
             "line": {
              "color": "white"
             }
            },
            "header": {
             "fill": {
              "color": "#C8D4E3"
             },
             "line": {
              "color": "white"
             }
            },
            "type": "table"
           }
          ]
         },
         "layout": {
          "font": {
           "family": "Franklin Gothic",
           "size": 12
          }
         }
        },
        "title": {
         "text": "Model Comparision"
        },
        "yaxis": {
         "range": [
          0,
          1.1
         ]
        }
       }
      }
     },
     "metadata": {},
     "output_type": "display_data"
    }
   ],
   "source": [
    "f2=go.Figure()\n",
    "models= ['RandomForestClassifier', 'ExtraTreesClassifier', 'GradientBoostingClassifier','XGBClassifier']\n",
    "\n",
    "f2.add_trace(go.Bar(x=models, y=train_score, name='Train', text=train_score , textposition='outside',\n",
    "                     texttemplate='%{text:.2f}%', width=0.38, \n",
    "                     hovertemplate='accuracy of %{x} = %{y:.2f}%<extra></extra>',\n",
    "                     marker=dict(color='#FA3434', opacity=0.8)))\n",
    "f2.add_trace(go.Bar(x=models, y=validation_score, name='validation', text=validation_score, textposition='outside',\n",
    "                     texttemplate='%{text:.2f}%', width=0.38, \n",
    "                     hovertemplate='accuracy of %{x} = %{y:.2f}%<extra></extra>',\n",
    "                     marker=dict(color='#D7BBA8', opacity=0.8)))\n",
    "\n",
    "\n",
    "temp = dict(layout=go.Layout(font=dict(family=\"Franklin Gothic\", size=12)))\n",
    "f2.update_traces(marker=dict(line=dict(width=1, color='#000000')))\n",
    "f2.update_layout(title=\"Model Comparision\", showlegend=True, template=temp, \n",
    "                  legend=dict(orientation=\"h\", yanchor=\"bottom\", y=1, xanchor=\"right\", x=.97),\n",
    "                  barmode='group', bargap=.15)\n",
    "f2.update_yaxes(range=(0,1.1))"
   ]
  },
  {
   "cell_type": "code",
   "execution_count": 18,
   "metadata": {},
   "outputs": [],
   "source": [
    "X_train_val = np.concatenate((X_train, X_val))\n",
    "y_train_val = np.concatenate((y_train, y_val))"
   ]
  },
  {
   "cell_type": "markdown",
   "metadata": {},
   "source": [
    "Hyperparameter tuning\n",
    "\n",
    "The cell below helps to find the optimal hyperparameters for the RandomForestClassifier and assesses its performance on both the training and test sets.\n",
    "The grid search performs 5 cross-validations to find the best hyperparameters of the random forest.\n",
    "Once the best model and parameters are found, the model is retrained on the entire training set and its recall, precision and F1 scores are computed to denote the performance (visualization below).\n",
    "\n",
    "As there are multiple options specified in the parameter grid, this cell will take a while to execute (~30 min on my laptop).\n"
   ]
  },
  {
   "cell_type": "code",
   "execution_count": 45,
   "metadata": {},
   "outputs": [
    {
     "data": {
      "text/html": [
       "<style>#sk-container-id-1 {color: black;}#sk-container-id-1 pre{padding: 0;}#sk-container-id-1 div.sk-toggleable {background-color: white;}#sk-container-id-1 label.sk-toggleable__label {cursor: pointer;display: block;width: 100%;margin-bottom: 0;padding: 0.3em;box-sizing: border-box;text-align: center;}#sk-container-id-1 label.sk-toggleable__label-arrow:before {content: \"▸\";float: left;margin-right: 0.25em;color: #696969;}#sk-container-id-1 label.sk-toggleable__label-arrow:hover:before {color: black;}#sk-container-id-1 div.sk-estimator:hover label.sk-toggleable__label-arrow:before {color: black;}#sk-container-id-1 div.sk-toggleable__content {max-height: 0;max-width: 0;overflow: hidden;text-align: left;background-color: #f0f8ff;}#sk-container-id-1 div.sk-toggleable__content pre {margin: 0.2em;color: black;border-radius: 0.25em;background-color: #f0f8ff;}#sk-container-id-1 input.sk-toggleable__control:checked~div.sk-toggleable__content {max-height: 200px;max-width: 100%;overflow: auto;}#sk-container-id-1 input.sk-toggleable__control:checked~label.sk-toggleable__label-arrow:before {content: \"▾\";}#sk-container-id-1 div.sk-estimator input.sk-toggleable__control:checked~label.sk-toggleable__label {background-color: #d4ebff;}#sk-container-id-1 div.sk-label input.sk-toggleable__control:checked~label.sk-toggleable__label {background-color: #d4ebff;}#sk-container-id-1 input.sk-hidden--visually {border: 0;clip: rect(1px 1px 1px 1px);clip: rect(1px, 1px, 1px, 1px);height: 1px;margin: -1px;overflow: hidden;padding: 0;position: absolute;width: 1px;}#sk-container-id-1 div.sk-estimator {font-family: monospace;background-color: #f0f8ff;border: 1px dotted black;border-radius: 0.25em;box-sizing: border-box;margin-bottom: 0.5em;}#sk-container-id-1 div.sk-estimator:hover {background-color: #d4ebff;}#sk-container-id-1 div.sk-parallel-item::after {content: \"\";width: 100%;border-bottom: 1px solid gray;flex-grow: 1;}#sk-container-id-1 div.sk-label:hover label.sk-toggleable__label {background-color: #d4ebff;}#sk-container-id-1 div.sk-serial::before {content: \"\";position: absolute;border-left: 1px solid gray;box-sizing: border-box;top: 0;bottom: 0;left: 50%;z-index: 0;}#sk-container-id-1 div.sk-serial {display: flex;flex-direction: column;align-items: center;background-color: white;padding-right: 0.2em;padding-left: 0.2em;position: relative;}#sk-container-id-1 div.sk-item {position: relative;z-index: 1;}#sk-container-id-1 div.sk-parallel {display: flex;align-items: stretch;justify-content: center;background-color: white;position: relative;}#sk-container-id-1 div.sk-item::before, #sk-container-id-1 div.sk-parallel-item::before {content: \"\";position: absolute;border-left: 1px solid gray;box-sizing: border-box;top: 0;bottom: 0;left: 50%;z-index: -1;}#sk-container-id-1 div.sk-parallel-item {display: flex;flex-direction: column;z-index: 1;position: relative;background-color: white;}#sk-container-id-1 div.sk-parallel-item:first-child::after {align-self: flex-end;width: 50%;}#sk-container-id-1 div.sk-parallel-item:last-child::after {align-self: flex-start;width: 50%;}#sk-container-id-1 div.sk-parallel-item:only-child::after {width: 0;}#sk-container-id-1 div.sk-dashed-wrapped {border: 1px dashed gray;margin: 0 0.4em 0.5em 0.4em;box-sizing: border-box;padding-bottom: 0.4em;background-color: white;}#sk-container-id-1 div.sk-label label {font-family: monospace;font-weight: bold;display: inline-block;line-height: 1.2em;}#sk-container-id-1 div.sk-label-container {text-align: center;}#sk-container-id-1 div.sk-container {/* jupyter's `normalize.less` sets `[hidden] { display: none; }` but bootstrap.min.css set `[hidden] { display: none !important; }` so we also need the `!important` here to be able to override the default hidden behavior on the sphinx rendered scikit-learn.org. See: https://github.com/scikit-learn/scikit-learn/issues/21755 */display: inline-block !important;position: relative;}#sk-container-id-1 div.sk-text-repr-fallback {display: none;}</style><div id=\"sk-container-id-1\" class=\"sk-top-container\"><div class=\"sk-text-repr-fallback\"><pre>RandomForestClassifier(criterion=&#x27;entropy&#x27;, max_depth=10, max_features=&#x27;log2&#x27;,\n",
       "                       min_samples_split=5, n_estimators=200, random_state=25)</pre><b>In a Jupyter environment, please rerun this cell to show the HTML representation or trust the notebook. <br />On GitHub, the HTML representation is unable to render, please try loading this page with nbviewer.org.</b></div><div class=\"sk-container\" hidden><div class=\"sk-item\"><div class=\"sk-estimator sk-toggleable\"><input class=\"sk-toggleable__control sk-hidden--visually\" id=\"sk-estimator-id-1\" type=\"checkbox\" checked><label for=\"sk-estimator-id-1\" class=\"sk-toggleable__label sk-toggleable__label-arrow\">RandomForestClassifier</label><div class=\"sk-toggleable__content\"><pre>RandomForestClassifier(criterion=&#x27;entropy&#x27;, max_depth=10, max_features=&#x27;log2&#x27;,\n",
       "                       min_samples_split=5, n_estimators=200, random_state=25)</pre></div></div></div></div></div>"
      ],
      "text/plain": [
       "RandomForestClassifier(criterion='entropy', max_depth=10, max_features='log2',\n",
       "                       min_samples_split=5, n_estimators=200, random_state=25)"
      ]
     },
     "execution_count": 45,
     "metadata": {},
     "output_type": "execute_result"
    }
   ],
   "source": [
    "param_grid = {\n",
    "    'n_estimators': [50,100, 200],\n",
    "    'max_depth': [None, 10, 20, 30],\n",
    "    'min_samples_split': [2, 5, 10],\n",
    "    'min_samples_leaf': [1, 2, 4],\n",
    "    'max_features': ['auto', 'sqrt', 'log2'],\n",
    "    'criterion': ['gini', 'entropy'],\n",
    "    'class_weight': [None, 'balanced']\n",
    "}\n",
    "\n",
    "# set the random seed for reproducibility\n",
    "random_state = 25\n",
    "np.random.seed(random_state)\n",
    "\n",
    "model = RandomForestClassifier(class_weight='balanced',random_state=random_state)\n",
    "\n",
    "grid_search = GridSearchCV(estimator=model, param_grid=param_grid, cv=5)\n",
    "grid_search.fit(X_train_val, y_train_val)\n",
    "best_model = grid_search.best_estimator_\n",
    "best_params = grid_search.best_params_\n",
    "\n",
    "# retraining the model on the whole train set\n",
    "best_model.fit(X_train_val, y_train_val)"
   ]
  },
  {
   "cell_type": "code",
   "execution_count": 50,
   "metadata": {},
   "outputs": [
    {
     "name": "stdout",
     "output_type": "stream",
     "text": [
      "F1-score on the train set: 0.909371384496722\n",
      "F1-score on the test set: 0.8384180790960453 \n",
      "\n",
      "Precision on the train set: 0.9727722772277227\n",
      "Precision on the test set: 0.9160493827160494 \n",
      "\n",
      "Recall on the train set: 0.8537291817523533\n",
      "Recall on the test set: 0.7729166666666667\n"
     ]
    }
   ],
   "source": [
    "# performance evaluation on both train and test sets\n",
    "y_train_val_pred = best_model.predict(X_train_val)\n",
    "f1_train = f1_score(y_train_val_pred, y_train_val)\n",
    "y_test_pred = best_model.predict(X_test)\n",
    "f1_test = f1_score(y_test_pred, y_test)\n",
    "precision_train = precision_score(y_train_val_pred, y_train_val)\n",
    "precision_test = precision_score(y_test_pred, y_test)\n",
    "recall_train = recall_score(y_train_val_pred, y_train_val)\n",
    "recall_test = recall_score(y_test_pred, y_test)\n",
    "\n",
    "\n",
    "print('F1-score on the train set:', f1_train)\n",
    "print('F1-score on the test set:', f1_test,'\\n')\n",
    "print('Precision on the train set:', precision_train)\n",
    "print('Precision on the test set:', precision_test,'\\n')\n",
    "print('Recall on the train set:', recall_train)\n",
    "print('Recall on the test set:', recall_test)"
   ]
  },
  {
   "cell_type": "markdown",
   "metadata": {},
   "source": [
    "Evaluation & visualization"
   ]
  },
  {
   "cell_type": "code",
   "execution_count": 47,
   "metadata": {},
   "outputs": [
    {
     "data": {
      "text/plain": [
       "<Figure size 640x480 with 0 Axes>"
      ]
     },
     "metadata": {},
     "output_type": "display_data"
    },
    {
     "data": {
      "image/png": "[encoded data removed]",
      "text/plain": [
       "<Figure size 1500x500 with 3 Axes>"
      ]
     },
     "metadata": {},
     "output_type": "display_data"
    }
   ],
   "source": [
    "cm = confusion_matrix(y_test,y_test_pred ,labels=[0,1])\n",
    "plt.subplots_adjust(hspace=0.5)\n",
    "warm=LinearSegmentedColormap.from_list('warm', \n",
    "                                       [(0, '#EBD5C8'), \n",
    "                                        (0.25, '#E1C1AD'),\n",
    "                                        (.75, '#D77873'), \n",
    "                                        (1, '#C8504A')], N=256)\n",
    "\n",
    "fig,ax=plt.subplots(nrows=1,ncols=2,figsize=(15,5))\n",
    "\n",
    "classes=['Self Made','Not Self Made']\n",
    "label = ['True Positives', 'False Negatives', 'False Positives', 'True Negatives']\n",
    "annot = [f'{i}\\n\\n{j}' for i, j in zip(cm.flatten(), label)]\n",
    "annot = np.asarray(annot).reshape(2,2)\n",
    "\n",
    "sns.set_context('notebook') \n",
    "sns.heatmap(cm, annot=annot, fmt='', cmap=warm, linecolor='white', linewidths=8, ax=ax[0])\n",
    "ax[0].set_title('Confusion Matrix')\n",
    "ax[0].set_xlabel('\\nPredicted Label')\n",
    "ax[0].set_ylabel('True Label\\n')\n",
    "ax[0].xaxis.set_ticklabels(classes)\n",
    "ax[0].yaxis.set_ticklabels(classes)\n",
    "\n",
    "\n",
    "y_proba= best_model.predict_proba(X_test)\n",
    "fpr, tpr, _ = roc_curve(y_test, y_proba[:,1])\n",
    "roc_auc = auc(fpr, tpr)\n",
    "RocCurveDisplay.from_estimator(best_model, X_test, y_test,ax=ax[1],color=\"#AF4343\")\n",
    "sns.lineplot(x = [0, 1], y = [0, 1], color = 'gold', linestyle=\"dashed\",ax=ax[1])\n",
    "ax[1].set_title('ROC Curve')\n",
    "\n",
    "plt.tight_layout()\n",
    "plt.show()"
   ]
  },
  {
   "cell_type": "code",
   "execution_count": 48,
   "metadata": {},
   "outputs": [
    {
     "data": {
      "application/vnd.plotly.v1+json": {
       "config": {
        "plotlyServerURL": "https://plot.ly"
       },
       "data": [
        {
         "hovertemplate": "%{y} Importance = %{x:.0f}<extra></extra>",
         "marker": {
          "color": [
           "#fff2eb",
           "#ffeee7",
           "#ffebe2",
           "#fee8dd",
           "#fee5d8",
           "#fee1d4",
           "#fedccd",
           "#fdd7c6",
           "#fdd1be",
           "#fdcbb6",
           "#fdc5ae",
           "#fcbfa7",
           "#fcb99f",
           "#fcb398",
           "#fcad90",
           "#fca689",
           "#fca082",
           "#fc997a",
           "#fc9373",
           "#fc8d6d",
           "#fc8666",
           "#fc8060",
           "#fb7a5a",
           "#fb7353",
           "#fb6d4d",
           "#fa6648",
           "#f85f43",
           "#f6583e",
           "#f4503a",
           "#f34935",
           "#f14130",
           "#ee3a2c",
           "#e93529",
           "#e32f27",
           "#dd2a25",
           "#d82422",
           "#d21f20",
           "#cc191e",
           "#c7171c",
           "#c1161b",
           "#bb141a",
           "#b51318",
           "#af1117",
           "#a91016",
           "#a10e15",
           "#980c13",
           "#8e0912",
           "#840711",
           "#7a0510",
           "#71020e"
          ],
          "size": 8
         },
         "mode": "markers",
         "type": "scatter",
         "x": [
          0.0075909924591942065,
          0.007662572156602475,
          0.008320894618116786,
          0.008528196905731223,
          0.00855797435313191,
          0.008750102223064691,
          0.00879031174662957,
          0.008816191444763468,
          0.00911558610624175,
          0.009402165611977145,
          0.009537487507806324,
          0.009968933261732194,
          0.010188207046425996,
          0.01023913935159166,
          0.010263267155795897,
          0.010361108667299924,
          0.010411738176666943,
          0.010503391405747863,
          0.010666817250959656,
          0.010782641349490966,
          0.010898460000024859,
          0.01108498152690673,
          0.01186539116484196,
          0.012418980332382186,
          0.012423030370650966,
          0.012527085959688128,
          0.012689074567504205,
          0.013198609675630385,
          0.013383778626654217,
          0.01360096109505852,
          0.013607553067559555,
          0.013662834504293626,
          0.013832796738800196,
          0.014166715307209931,
          0.01420628129908265,
          0.01421087284049657,
          0.014857301670953187,
          0.014902994379975483,
          0.015138143178848618,
          0.015165423158297255,
          0.01531951289803355,
          0.015349473067342058,
          0.01536806029190437,
          0.015638129166868932,
          0.015801055149498984,
          0.015819836211736205,
          0.01662508022780798,
          0.01685607043961402,
          0.01693168222155041,
          0.02187590606601751
         ],
         "y": [
          "gdp_country population_country",
          "rank population_country",
          "finalWorth cpi_country",
          "finalWorth gross_primary_education_enrollment_country",
          "population_country longitude_country",
          "finalWorth",
          "longitude_country",
          "gdp_country total_tax_rate_country",
          "finalWorth life_expectancy_country",
          "finalWorth latitude_country",
          "longitude_country gender_M",
          "finalWorth tax_revenue_country_country",
          "finalWorth total_tax_rate_country",
          "gdp_country longitude_country",
          "rank finalWorth",
          "finalWorth cpi_change_country",
          "finalWorth gross_tertiary_education_enrollment",
          "finalWorth population_country",
          "gross_primary_education_enrollment_country gender_M",
          "finalWorth gdp_country",
          "latitude_country longitude_country",
          "cpi_country gender_M",
          "total_tax_rate_country population_country",
          "total_tax_rate_country longitude_country",
          "cpi_change_country gender_M",
          "finalWorth longitude_country",
          "rank gender_M",
          "age total_tax_rate_country",
          "age latitude_country",
          "age gross_tertiary_education_enrollment",
          "age gdp_country",
          "rank age",
          "finalWorth age",
          "age",
          "gross_tertiary_education_enrollment gender_M",
          "gdp_country gender_M",
          "age longitude_country",
          "age life_expectancy_country",
          "age population_country",
          "age cpi_country",
          "age gross_primary_education_enrollment_country",
          "total_tax_rate_country gender_M",
          "life_expectancy_country gender_M",
          "tax_revenue_country_country gender_M",
          "age tax_revenue_country_country",
          "latitude_country gender_M",
          "age cpi_change_country",
          "finalWorth gender_M",
          "population_country gender_M",
          "age gender_M"
         ]
        }
       ],
       "layout": {
        "height": 1000,
        "margin": {
         "l": 150,
         "t": 80
        },
        "shapes": [
         {
          "line": {
           "color": "#fff2eb",
           "width": 4
          },
          "opacity": 0.8,
          "type": "line",
          "x0": 0,
          "x1": 0.0075909924591942065,
          "y0": 0,
          "y1": 0
         },
         {
          "line": {
           "color": "#ffeee7",
           "width": 4
          },
          "opacity": 0.8,
          "type": "line",
          "x0": 0,
          "x1": 0.007662572156602475,
          "y0": 1,
          "y1": 1
         },
         {
          "line": {
           "color": "#ffebe2",
           "width": 4
          },
          "opacity": 0.8,
          "type": "line",
          "x0": 0,
          "x1": 0.008320894618116786,
          "y0": 2,
          "y1": 2
         },
         {
          "line": {
           "color": "#fee8dd",
           "width": 4
          },
          "opacity": 0.8,
          "type": "line",
          "x0": 0,
          "x1": 0.008528196905731223,
          "y0": 3,
          "y1": 3
         },
         {
          "line": {
           "color": "#fee5d8",
           "width": 4
          },
          "opacity": 0.8,
          "type": "line",
          "x0": 0,
          "x1": 0.00855797435313191,
          "y0": 4,
          "y1": 4
         },
         {
          "line": {
           "color": "#fee1d4",
           "width": 4
          },
          "opacity": 0.8,
          "type": "line",
          "x0": 0,
          "x1": 0.008750102223064691,
          "y0": 5,
          "y1": 5
         },
         {
          "line": {
           "color": "#fedccd",
           "width": 4
          },
          "opacity": 0.8,
          "type": "line",
          "x0": 0,
          "x1": 0.00879031174662957,
          "y0": 6,
          "y1": 6
         },
         {
          "line": {
           "color": "#fdd7c6",
           "width": 4
          },
          "opacity": 0.8,
          "type": "line",
          "x0": 0,
          "x1": 0.008816191444763468,
          "y0": 7,
          "y1": 7
         },
         {
          "line": {
           "color": "#fdd1be",
           "width": 4
          },
          "opacity": 0.8,
          "type": "line",
          "x0": 0,
          "x1": 0.00911558610624175,
          "y0": 8,
          "y1": 8
         },
         {
          "line": {
           "color": "#fdcbb6",
           "width": 4
          },
          "opacity": 0.8,
          "type": "line",
          "x0": 0,
          "x1": 0.009402165611977145,
          "y0": 9,
          "y1": 9
         },
         {
          "line": {
           "color": "#fdc5ae",
           "width": 4
          },
          "opacity": 0.8,
          "type": "line",
          "x0": 0,
          "x1": 0.009537487507806324,
          "y0": 10,
          "y1": 10
         },
         {
          "line": {
           "color": "#fcbfa7",
           "width": 4
          },
          "opacity": 0.8,
          "type": "line",
          "x0": 0,
          "x1": 0.009968933261732194,
          "y0": 11,
          "y1": 11
         },
         {
          "line": {
           "color": "#fcb99f",
           "width": 4
          },
          "opacity": 0.8,
          "type": "line",
          "x0": 0,
          "x1": 0.010188207046425996,
          "y0": 12,
          "y1": 12
         },
         {
          "line": {
           "color": "#fcb398",
           "width": 4
          },
          "opacity": 0.8,
          "type": "line",
          "x0": 0,
          "x1": 0.01023913935159166,
          "y0": 13,
          "y1": 13
         },
         {
          "line": {
           "color": "#fcad90",
           "width": 4
          },
          "opacity": 0.8,
          "type": "line",
          "x0": 0,
          "x1": 0.010263267155795897,
          "y0": 14,
          "y1": 14
         },
         {
          "line": {
           "color": "#fca689",
           "width": 4
          },
          "opacity": 0.8,
          "type": "line",
          "x0": 0,
          "x1": 0.010361108667299924,
          "y0": 15,
          "y1": 15
         },
         {
          "line": {
           "color": "#fca082",
           "width": 4
          },
          "opacity": 0.8,
          "type": "line",
          "x0": 0,
          "x1": 0.010411738176666943,
          "y0": 16,
          "y1": 16
         },
         {
          "line": {
           "color": "#fc997a",
           "width": 4
          },
          "opacity": 0.8,
          "type": "line",
          "x0": 0,
          "x1": 0.010503391405747863,
          "y0": 17,
          "y1": 17
         },
         {
          "line": {
           "color": "#fc9373",
           "width": 4
          },
          "opacity": 0.8,
          "type": "line",
          "x0": 0,
          "x1": 0.010666817250959656,
          "y0": 18,
          "y1": 18
         },
         {
          "line": {
           "color": "#fc8d6d",
           "width": 4
          },
          "opacity": 0.8,
          "type": "line",
          "x0": 0,
          "x1": 0.010782641349490966,
          "y0": 19,
          "y1": 19
         },
         {
          "line": {
           "color": "#fc8666",
           "width": 4
          },
          "opacity": 0.8,
          "type": "line",
          "x0": 0,
          "x1": 0.010898460000024859,
          "y0": 20,
          "y1": 20
         },
         {
          "line": {
           "color": "#fc8060",
           "width": 4
          },
          "opacity": 0.8,
          "type": "line",
          "x0": 0,
          "x1": 0.01108498152690673,
          "y0": 21,
          "y1": 21
         },
         {
          "line": {
           "color": "#fb7a5a",
           "width": 4
          },
          "opacity": 0.8,
          "type": "line",
          "x0": 0,
          "x1": 0.01186539116484196,
          "y0": 22,
          "y1": 22
         },
         {
          "line": {
           "color": "#fb7353",
           "width": 4
          },
          "opacity": 0.8,
          "type": "line",
          "x0": 0,
          "x1": 0.012418980332382186,
          "y0": 23,
          "y1": 23
         },
         {
          "line": {
           "color": "#fb6d4d",
           "width": 4
          },
          "opacity": 0.8,
          "type": "line",
          "x0": 0,
          "x1": 0.012423030370650966,
          "y0": 24,
          "y1": 24
         },
         {
          "line": {
           "color": "#fa6648",
           "width": 4
          },
          "opacity": 0.8,
          "type": "line",
          "x0": 0,
          "x1": 0.012527085959688128,
          "y0": 25,
          "y1": 25
         },
         {
          "line": {
           "color": "#f85f43",
           "width": 4
          },
          "opacity": 0.8,
          "type": "line",
          "x0": 0,
          "x1": 0.012689074567504205,
          "y0": 26,
          "y1": 26
         },
         {
          "line": {
           "color": "#f6583e",
           "width": 4
          },
          "opacity": 0.8,
          "type": "line",
          "x0": 0,
          "x1": 0.013198609675630385,
          "y0": 27,
          "y1": 27
         },
         {
          "line": {
           "color": "#f4503a",
           "width": 4
          },
          "opacity": 0.8,
          "type": "line",
          "x0": 0,
          "x1": 0.013383778626654217,
          "y0": 28,
          "y1": 28
         },
         {
          "line": {
           "color": "#f34935",
           "width": 4
          },
          "opacity": 0.8,
          "type": "line",
          "x0": 0,
          "x1": 0.01360096109505852,
          "y0": 29,
          "y1": 29
         },
         {
          "line": {
           "color": "#f14130",
           "width": 4
          },
          "opacity": 0.8,
          "type": "line",
          "x0": 0,
          "x1": 0.013607553067559555,
          "y0": 30,
          "y1": 30
         },
         {
          "line": {
           "color": "#ee3a2c",
           "width": 4
          },
          "opacity": 0.8,
          "type": "line",
          "x0": 0,
          "x1": 0.013662834504293626,
          "y0": 31,
          "y1": 31
         },
         {
          "line": {
           "color": "#e93529",
           "width": 4
          },
          "opacity": 0.8,
          "type": "line",
          "x0": 0,
          "x1": 0.013832796738800196,
          "y0": 32,
          "y1": 32
         },
         {
          "line": {
           "color": "#e32f27",
           "width": 4
          },
          "opacity": 0.8,
          "type": "line",
          "x0": 0,
          "x1": 0.014166715307209931,
          "y0": 33,
          "y1": 33
         },
         {
          "line": {
           "color": "#dd2a25",
           "width": 4
          },
          "opacity": 0.8,
          "type": "line",
          "x0": 0,
          "x1": 0.01420628129908265,
          "y0": 34,
          "y1": 34
         },
         {
          "line": {
           "color": "#d82422",
           "width": 4
          },
          "opacity": 0.8,
          "type": "line",
          "x0": 0,
          "x1": 0.01421087284049657,
          "y0": 35,
          "y1": 35
         },
         {
          "line": {
           "color": "#d21f20",
           "width": 4
          },
          "opacity": 0.8,
          "type": "line",
          "x0": 0,
          "x1": 0.014857301670953187,
          "y0": 36,
          "y1": 36
         },
         {
          "line": {
           "color": "#cc191e",
           "width": 4
          },
          "opacity": 0.8,
          "type": "line",
          "x0": 0,
          "x1": 0.014902994379975483,
          "y0": 37,
          "y1": 37
         },
         {
          "line": {
           "color": "#c7171c",
           "width": 4
          },
          "opacity": 0.8,
          "type": "line",
          "x0": 0,
          "x1": 0.015138143178848618,
          "y0": 38,
          "y1": 38
         },
         {
          "line": {
           "color": "#c1161b",
           "width": 4
          },
          "opacity": 0.8,
          "type": "line",
          "x0": 0,
          "x1": 0.015165423158297255,
          "y0": 39,
          "y1": 39
         },
         {
          "line": {
           "color": "#bb141a",
           "width": 4
          },
          "opacity": 0.8,
          "type": "line",
          "x0": 0,
          "x1": 0.01531951289803355,
          "y0": 40,
          "y1": 40
         },
         {
          "line": {
           "color": "#b51318",
           "width": 4
          },
          "opacity": 0.8,
          "type": "line",
          "x0": 0,
          "x1": 0.015349473067342058,
          "y0": 41,
          "y1": 41
         },
         {
          "line": {
           "color": "#af1117",
           "width": 4
          },
          "opacity": 0.8,
          "type": "line",
          "x0": 0,
          "x1": 0.01536806029190437,
          "y0": 42,
          "y1": 42
         },
         {
          "line": {
           "color": "#a91016",
           "width": 4
          },
          "opacity": 0.8,
          "type": "line",
          "x0": 0,
          "x1": 0.015638129166868932,
          "y0": 43,
          "y1": 43
         },
         {
          "line": {
           "color": "#a10e15",
           "width": 4
          },
          "opacity": 0.8,
          "type": "line",
          "x0": 0,
          "x1": 0.015801055149498984,
          "y0": 44,
          "y1": 44
         },
         {
          "line": {
           "color": "#980c13",
           "width": 4
          },
          "opacity": 0.8,
          "type": "line",
          "x0": 0,
          "x1": 0.015819836211736205,
          "y0": 45,
          "y1": 45
         },
         {
          "line": {
           "color": "#8e0912",
           "width": 4
          },
          "opacity": 0.8,
          "type": "line",
          "x0": 0,
          "x1": 0.01662508022780798,
          "y0": 46,
          "y1": 46
         },
         {
          "line": {
           "color": "#840711",
           "width": 4
          },
          "opacity": 0.8,
          "type": "line",
          "x0": 0,
          "x1": 0.01685607043961402,
          "y0": 47,
          "y1": 47
         },
         {
          "line": {
           "color": "#7a0510",
           "width": 4
          },
          "opacity": 0.8,
          "type": "line",
          "x0": 0,
          "x1": 0.01693168222155041,
          "y0": 48,
          "y1": 48
         },
         {
          "line": {
           "color": "#71020e",
           "width": 4
          },
          "opacity": 0.8,
          "type": "line",
          "x0": 0,
          "x1": 0.02187590606601751,
          "y0": 49,
          "y1": 49
         }
        ],
        "template": {
         "data": {
          "bar": [
           {
            "error_x": {
             "color": "#2a3f5f"
            },
            "error_y": {
             "color": "#2a3f5f"
            },
            "marker": {
             "line": {
              "color": "#E5ECF6",
              "width": 0.5
             },
             "pattern": {
              "fillmode": "overlay",
              "size": 10,
              "solidity": 0.2
             }
            },
            "type": "bar"
           }
          ],
          "barpolar": [
           {
            "marker": {
             "line": {
              "color": "#E5ECF6",
              "width": 0.5
             },
             "pattern": {
              "fillmode": "overlay",
              "size": 10,
              "solidity": 0.2
             }
            },
            "type": "barpolar"
           }
          ],
          "carpet": [
           {
            "aaxis": {
             "endlinecolor": "#2a3f5f",
             "gridcolor": "white",
             "linecolor": "white",
             "minorgridcolor": "white",
             "startlinecolor": "#2a3f5f"
            },
            "baxis": {
             "endlinecolor": "#2a3f5f",
             "gridcolor": "white",
             "linecolor": "white",
             "minorgridcolor": "white",
             "startlinecolor": "#2a3f5f"
            },
            "type": "carpet"
           }
          ],
          "choropleth": [
           {
            "colorbar": {
             "outlinewidth": 0,
             "ticks": ""
            },
            "type": "choropleth"
           }
          ],
          "contour": [
           {
            "colorbar": {
             "outlinewidth": 0,
             "ticks": ""
            },
            "colorscale": [
             [
              0,
              "#0d0887"
             ],
             [
              0.1111111111111111,
              "#46039f"
             ],
             [
              0.2222222222222222,
              "#7201a8"
             ],
             [
              0.3333333333333333,
              "#9c179e"
             ],
             [
              0.4444444444444444,
              "#bd3786"
             ],
             [
              0.5555555555555556,
              "#d8576b"
             ],
             [
              0.6666666666666666,
              "#ed7953"
             ],
             [
              0.7777777777777778,
              "#fb9f3a"
             ],
             [
              0.8888888888888888,
              "#fdca26"
             ],
             [
              1,
              "#f0f921"
             ]
            ],
            "type": "contour"
           }
          ],
          "contourcarpet": [
           {
            "colorbar": {
             "outlinewidth": 0,
             "ticks": ""
            },
            "type": "contourcarpet"
           }
          ],
          "heatmap": [
           {
            "colorbar": {
             "outlinewidth": 0,
             "ticks": ""
            },
            "colorscale": [
             [
              0,
              "#0d0887"
             ],
             [
              0.1111111111111111,
              "#46039f"
             ],
             [
              0.2222222222222222,
              "#7201a8"
             ],
             [
              0.3333333333333333,
              "#9c179e"
             ],
             [
              0.4444444444444444,
              "#bd3786"
             ],
             [
              0.5555555555555556,
              "#d8576b"
             ],
             [
              0.6666666666666666,
              "#ed7953"
             ],
             [
              0.7777777777777778,
              "#fb9f3a"
             ],
             [
              0.8888888888888888,
              "#fdca26"
             ],
             [
              1,
              "#f0f921"
             ]
            ],
            "type": "heatmap"
           }
          ],
          "heatmapgl": [
           {
            "colorbar": {
             "outlinewidth": 0,
             "ticks": ""
            },
            "colorscale": [
             [
              0,
              "#0d0887"
             ],
             [
              0.1111111111111111,
              "#46039f"
             ],
             [
              0.2222222222222222,
              "#7201a8"
             ],
             [
              0.3333333333333333,
              "#9c179e"
             ],
             [
              0.4444444444444444,
              "#bd3786"
             ],
             [
              0.5555555555555556,
              "#d8576b"
             ],
             [
              0.6666666666666666,
              "#ed7953"
             ],
             [
              0.7777777777777778,
              "#fb9f3a"
             ],
             [
              0.8888888888888888,
              "#fdca26"
             ],
             [
              1,
              "#f0f921"
             ]
            ],
            "type": "heatmapgl"
           }
          ],
          "histogram": [
           {
            "marker": {
             "pattern": {
              "fillmode": "overlay",
              "size": 10,
              "solidity": 0.2
             }
            },
            "type": "histogram"
           }
          ],
          "histogram2d": [
           {
            "colorbar": {
             "outlinewidth": 0,
             "ticks": ""
            },
            "colorscale": [
             [
              0,
              "#0d0887"
             ],
             [
              0.1111111111111111,
              "#46039f"
             ],
             [
              0.2222222222222222,
              "#7201a8"
             ],
             [
              0.3333333333333333,
              "#9c179e"
             ],
             [
              0.4444444444444444,
              "#bd3786"
             ],
             [
              0.5555555555555556,
              "#d8576b"
             ],
             [
              0.6666666666666666,
              "#ed7953"
             ],
             [
              0.7777777777777778,
              "#fb9f3a"
             ],
             [
              0.8888888888888888,
              "#fdca26"
             ],
             [
              1,
              "#f0f921"
             ]
            ],
            "type": "histogram2d"
           }
          ],
          "histogram2dcontour": [
           {
            "colorbar": {
             "outlinewidth": 0,
             "ticks": ""
            },
            "colorscale": [
             [
              0,
              "#0d0887"
             ],
             [
              0.1111111111111111,
              "#46039f"
             ],
             [
              0.2222222222222222,
              "#7201a8"
             ],
             [
              0.3333333333333333,
              "#9c179e"
             ],
             [
              0.4444444444444444,
              "#bd3786"
             ],
             [
              0.5555555555555556,
              "#d8576b"
             ],
             [
              0.6666666666666666,
              "#ed7953"
             ],
             [
              0.7777777777777778,
              "#fb9f3a"
             ],
             [
              0.8888888888888888,
              "#fdca26"
             ],
             [
              1,
              "#f0f921"
             ]
            ],
            "type": "histogram2dcontour"
           }
          ],
          "mesh3d": [
           {
            "colorbar": {
             "outlinewidth": 0,
             "ticks": ""
            },
            "type": "mesh3d"
           }
          ],
          "parcoords": [
           {
            "line": {
             "colorbar": {
              "outlinewidth": 0,
              "ticks": ""
             }
            },
            "type": "parcoords"
           }
          ],
          "pie": [
           {
            "automargin": true,
            "type": "pie"
           }
          ],
          "scatter": [
           {
            "fillpattern": {
             "fillmode": "overlay",
             "size": 10,
             "solidity": 0.2
            },
            "type": "scatter"
           }
          ],
          "scatter3d": [
           {
            "line": {
             "colorbar": {
              "outlinewidth": 0,
              "ticks": ""
             }
            },
            "marker": {
             "colorbar": {
              "outlinewidth": 0,
              "ticks": ""
             }
            },
            "type": "scatter3d"
           }
          ],
          "scattercarpet": [
           {
            "marker": {
             "colorbar": {
              "outlinewidth": 0,
              "ticks": ""
             }
            },
            "type": "scattercarpet"
           }
          ],
          "scattergeo": [
           {
            "marker": {
             "colorbar": {
              "outlinewidth": 0,
              "ticks": ""
             }
            },
            "type": "scattergeo"
           }
          ],
          "scattergl": [
           {
            "marker": {
             "colorbar": {
              "outlinewidth": 0,
              "ticks": ""
             }
            },
            "type": "scattergl"
           }
          ],
          "scattermapbox": [
           {
            "marker": {
             "colorbar": {
              "outlinewidth": 0,
              "ticks": ""
             }
            },
            "type": "scattermapbox"
           }
          ],
          "scatterpolar": [
           {
            "marker": {
             "colorbar": {
              "outlinewidth": 0,
              "ticks": ""
             }
            },
            "type": "scatterpolar"
           }
          ],
          "scatterpolargl": [
           {
            "marker": {
             "colorbar": {
              "outlinewidth": 0,
              "ticks": ""
             }
            },
            "type": "scatterpolargl"
           }
          ],
          "scatterternary": [
           {
            "marker": {
             "colorbar": {
              "outlinewidth": 0,
              "ticks": ""
             }
            },
            "type": "scatterternary"
           }
          ],
          "surface": [
           {
            "colorbar": {
             "outlinewidth": 0,
             "ticks": ""
            },
            "colorscale": [
             [
              0,
              "#0d0887"
             ],
             [
              0.1111111111111111,
              "#46039f"
             ],
             [
              0.2222222222222222,
              "#7201a8"
             ],
             [
              0.3333333333333333,
              "#9c179e"
             ],
             [
              0.4444444444444444,
              "#bd3786"
             ],
             [
              0.5555555555555556,
              "#d8576b"
             ],
             [
              0.6666666666666666,
              "#ed7953"
             ],
             [
              0.7777777777777778,
              "#fb9f3a"
             ],
             [
              0.8888888888888888,
              "#fdca26"
             ],
             [
              1,
              "#f0f921"
             ]
            ],
            "type": "surface"
           }
          ],
          "table": [
           {
            "cells": {
             "fill": {
              "color": "#EBF0F8"
             },
             "line": {
              "color": "white"
             }
            },
            "header": {
             "fill": {
              "color": "#C8D4E3"
             },
             "line": {
              "color": "white"
             }
            },
            "type": "table"
           }
          ]
         },
         "layout": {
          "font": {
           "family": "Franklin Gothic",
           "size": 12
          }
         }
        },
        "title": {
         "text": "Random Forest Feature Importance<br>Top 50"
        },
        "width": 800,
        "xaxis": {
         "title": {
          "text": "Importance"
         },
         "zeroline": false
        },
        "yaxis": {
         "showgrid": false
        }
       }
      }
     },
     "metadata": {},
     "output_type": "display_data"
    }
   ],
   "source": [
    "# top 50 important features\n",
    "\n",
    "ft_importance=pd.DataFrame(index=X_pf.columns)\n",
    "ft_importance['feature_importances']=best_model.feature_importances_  \n",
    "ft_importance=ft_importance.feature_importances.nlargest(50).sort_values(ascending=True)\n",
    "\n",
    "pal=sns.color_palette(\"Reds_r\", 50).as_hex()\n",
    "fig=go.Figure()\n",
    "for i in range(len(ft_importance.index)):\n",
    "    fig.add_shape(dict(type=\"line\", y0=i, y1=i, x0=0, x1=ft_importance[i], \n",
    "                       line_color=pal[::-1][i],opacity=0.8,line_width=4))\n",
    "fig.add_trace(go.Scatter(x=ft_importance, y=ft_importance.index, mode='markers', \n",
    "                         marker_color=pal[::-1], marker_size=8,\n",
    "                         hovertemplate='%{y} Importance = %{x:.0f}<extra></extra>'))\n",
    "fig.update_layout(template=temp,title='Random Forest Feature Importance<br>Top 50', \n",
    "                  margin=dict(l=150,t=80),\n",
    "                  xaxis=dict(title='Importance', zeroline=False),\n",
    "                  yaxis_showgrid=False, height=1000, width=800)\n",
    "fig.show()\n"
   ]
  },
  {
   "cell_type": "markdown",
   "metadata": {},
   "source": [
    "Conclusion\n",
    "The machine learning model, based on a Random Forest classifier, demonstrates solid performance in predicting whether billionaires are self-made or not. The F1 score, a metric that balances precision and recall, achieved over 90% on the training set and around  85% on the testing set. These scores indicate a robust ability to correctly identify both positive and negative instances, highlighting the model's effectiveness in binary classification, although certain improvements could be made such as integrating domain knowledge to enhance the interpretability of the model and improve its ability to capture subtle patterns in the data.\n"
   ]
  }
 ],
 "metadata": {
  "kernelspec": {
   "display_name": "Python 3",
   "language": "python",
   "name": "python3"
  },
  "language_info": {
   "codemirror_mode": {
    "name": "ipython",
    "version": 3
   },
   "file_extension": ".py",
   "mimetype": "text/x-python",
   "name": "python",
   "nbconvert_exporter": "python",
   "pygments_lexer": "ipython3",
   "version": "3.10.12"
  }
 },
 "nbformat": 4,
 "nbformat_minor": 2
}
